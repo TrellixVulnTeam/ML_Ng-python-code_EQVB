{
 "cells": [
  {
   "cell_type": "code",
   "execution_count": 1463,
   "metadata": {
    "collapsed": true,
    "pycharm": {
     "is_executing": false
    }
   },
   "outputs": [],
   "source": [
    "import matplotlib\n",
    "import scipy.optimize as opt\n",
    "import matplotlib.pyplot as plt\n",
    "import numpy as np\n",
    "import scipy.io as sio"
   ]
  },
  {
   "cell_type": "markdown",
   "source": [
    "读取matlab data数据\n"
   ],
   "metadata": {
    "collapsed": false,
    "pycharm": {
     "name": "#%% md\n"
    }
   }
  },
  {
   "cell_type": "code",
   "execution_count": 1464,
   "outputs": [],
   "source": [
    "path_data = 'ex4data1'\n",
    "data =  sio.loadmat(path_data)\n",
    "X = data.get('X')\n",
    "Y = data.get('y')\n",
    "# Y = Y - 1\n",
    "# Y = Y.astype(np.int)\n",
    "# X = np.insert(X, 0, values=np.ones(X.shape[0]), axis=1)\n",
    "    "
   ],
   "metadata": {
    "collapsed": false,
    "pycharm": {
     "name": "#%%\n",
     "is_executing": false
    }
   }
  },
  {
   "cell_type": "markdown",
   "source": [
    "编写画出100张手写图片的函数"
   ],
   "metadata": {
    "collapsed": false,
    "pycharm": {
     "name": "#%% md\n"
    }
   }
  },
  {
   "cell_type": "code",
   "execution_count": 1465,
   "outputs": [],
   "source": [
    "def plot_100images(X):\n",
    "    random_id = np.random.choice(range(X.shape[0]), 100)\n",
    "    size = int(np.sqrt(X.shape[1]))\n",
    "    fig,ax = plt.subplots(nrows=10, ncols=10, sharex=True, sharey=True, figsize=(8,8))\n",
    "    for i in range(10):\n",
    "        for j in range(10):\n",
    "            ax[i, j].matshow(X[random_id[10 * i + j]].reshape((size, size)),\n",
    "                             cmap=matplotlib.cm.binary)\n",
    "            plt.xticks([])\n",
    "            plt.yticks([])\n",
    "    plt.show()"
   ],
   "metadata": {
    "collapsed": false,
    "pycharm": {
     "name": "#%%\n",
     "is_executing": false
    }
   }
  },
  {
   "cell_type": "code",
   "execution_count": 1466,
   "outputs": [],
   "source": [
    "#因为调用这个函数很费时间，故在运行其他部分时将它注释\n",
    "#plot_100images(X)"
   ],
   "metadata": {
    "collapsed": false,
    "pycharm": {
     "name": "#%%\n",
     "is_executing": false
    }
   }
  },
  {
   "cell_type": "code",
   "execution_count": 1467,
   "outputs": [],
   "source": [
    "def sigmoid(z):\n",
    "    return 1/(1 + np.exp(-z))\n"
   ],
   "metadata": {
    "collapsed": false,
    "pycharm": {
     "name": "#%%\n",
     "is_executing": false
    }
   }
  },
  {
   "cell_type": "markdown",
   "source": [
    "编写将向量扁平化的函数\n",
    "\n"
   ],
   "metadata": {
    "collapsed": false
   }
  },
  {
   "cell_type": "code",
   "execution_count": 1468,
   "outputs": [],
   "source": [
    "def serialize(a, b):\n",
    "  \n",
    "    return np.concatenate((np.ravel(a), np.ravel(b)))\n"
   ],
   "metadata": {
    "collapsed": false,
    "pycharm": {
     "name": "#%%\n",
     "is_executing": false
    }
   }
  },
  {
   "cell_type": "markdown",
   "source": [
    "编写将扁平向量复原的函数\n"
   ],
   "metadata": {
    "collapsed": false,
    "pycharm": {
     "name": "#%% md\n"
    }
   }
  },
  {
   "cell_type": "code",
   "execution_count": 1469,
   "outputs": [],
   "source": [
    "def deserialize(input_layer_size, hidden_layer_size, num_labels, seq):\n",
    "\n",
    "    return seq[:hidden_layer_size * (input_layer_size + 1)].reshape(hidden_layer_size, input_layer_size + 1),\\\n",
    "           seq[hidden_layer_size * (input_layer_size + 1):].reshape(num_labels, hidden_layer_size + 1)"
   ],
   "metadata": {
    "collapsed": false,
    "pycharm": {
     "name": "#%%\n",
     "is_executing": false
    }
   }
  },
  {
   "cell_type": "markdown",
   "source": [
    "读取matlab weight数据\n",
    "\n"
   ],
   "metadata": {
    "collapsed": false,
    "pycharm": {
     "name": "#%% md\n"
    }
   }
  },
  {
   "cell_type": "code",
   "execution_count": 1470,
   "outputs": [],
   "source": [
    "path_weight = 'ex4weights.mat'\n",
    "weight = sio.loadmat(path_weight)\n",
    "theta1 = weight.get('Theta1')\n",
    "theta2 = weight.get('Theta2')\n",
    "theta = serialize(theta1, theta2)"
   ],
   "metadata": {
    "collapsed": false,
    "pycharm": {
     "name": "#%%\n",
     "is_executing": false
    }
   }
  },
  {
   "cell_type": "markdown",
   "source": [
    "编写costFunction函数"
   ],
   "metadata": {
    "collapsed": false
   }
  },
  {
   "cell_type": "code",
   "execution_count": 1471,
   "outputs": [],
   "source": [
    "def nnCostFunction(theta, input_layer_size, hidden_layer_size, num_labels, X, Y, lamda):\n",
    "    X = np.insert(X, 0, values=np.ones(X.shape[0]), axis=1)    \n",
    "    Y_Num = np.zeros((Y.shape[0], num_labels))\n",
    "    for i in range(Y.shape[0]):\n",
    "        Y_Num[i, Y[i] - 1] = 1\n",
    "    theta1, theta2= deserialize(input_layer_size, hidden_layer_size, num_labels, theta)\n",
    "    z2 = X @ theta1.T\n",
    "    a2 = sigmoid(z2)\n",
    "    a2 = np.insert(a2, 0, values=np.ones(a2.shape[0]), axis=1)\n",
    "    z3 = a2 @ theta2.T\n",
    "    a3 = sigmoid(z3)\n",
    "    first = -np.multiply(Y_Num, np.log(a3))\n",
    "    second = np.multiply((1 - Y_Num), np.log(1 - a3))\n",
    "    theta1 = np.delete(theta1, 0, axis=1)\n",
    "    theta2 = np.delete(theta2, 0, axis=1)\n",
    "    third = (lamda / (2 * X.shape[0])) * (np.sum(theta1 * theta1) + np.sum(theta2 * theta2))\n",
    "    return (first - second).sum()/X.shape[0] +third      \n",
    "        \n",
    "        "
   ],
   "metadata": {
    "collapsed": false,
    "pycharm": {
     "name": "#%%\n",
     "is_executing": false
    }
   }
  },
  {
   "cell_type": "code",
   "execution_count": 1472,
   "outputs": [
    {
     "name": "stdout",
     "text": [
      "0.2876291651613189\n"
     ],
     "output_type": "stream"
    }
   ],
   "source": [
    "#用lamda是否等于零来控制是否含有正则项\n",
    "J = nnCostFunction(theta=theta, input_layer_size=400, hidden_layer_size=25, num_labels=10, \n",
    "                   X=X, Y=Y, lamda=0)\n",
    "print(J)"
   ],
   "metadata": {
    "collapsed": false,
    "pycharm": {
     "name": "#%%\n",
     "is_executing": false
    }
   }
  },
  {
   "cell_type": "markdown",
   "source": [
    "编写gradient_sigmoid函数\n",
    "\n"
   ],
   "metadata": {
    "collapsed": false
   }
  },
  {
   "cell_type": "code",
   "execution_count": 1473,
   "outputs": [],
   "source": [
    "def gradient_sigmoid(z):\n",
    "    return sigmoid(z) * (1 - sigmoid(z))"
   ],
   "metadata": {
    "collapsed": false,
    "pycharm": {
     "name": "#%%\n",
     "is_executing": false
    }
   }
  },
  {
   "cell_type": "code",
   "execution_count": 1474,
   "outputs": [
    {
     "name": "stdout",
     "text": [
      "0.19661193324148185\n0.2350037122015945\n0.25\n0.2350037122015945\n0.19661193324148185\n"
     ],
     "output_type": "stream"
    }
   ],
   "source": [
    "#验证gradient_sigmoid函数是否编写正确\n",
    "Z = np.array([-1, -0.5, 0, 0.5, 1])\n",
    "for z in Z:\n",
    "    print(gradient_sigmoid(z))"
   ],
   "metadata": {
    "collapsed": false,
    "pycharm": {
     "name": "#%%\n",
     "is_executing": false
    }
   }
  },
  {
   "cell_type": "markdown",
   "source": [
    "随机初始化\n",
    "\n"
   ],
   "metadata": {
    "collapsed": false
   }
  },
  {
   "cell_type": "code",
   "execution_count": 1475,
   "outputs": [],
   "source": [
    "epsilon = 0.12\n",
    "initial_theta1 = np.random.uniform(-epsilon, epsilon, theta1.shape)\n",
    "initial_theta2 = np.random.uniform(-epsilon, epsilon, theta2.shape)\n",
    "initial_theta = serialize(initial_theta1, initial_theta2)"
   ],
   "metadata": {
    "collapsed": false,
    "pycharm": {
     "name": "#%%\n",
     "is_executing": false
    }
   }
  },
  {
   "cell_type": "markdown",
   "source": [
    "编写反向传播函数"
   ],
   "metadata": {
    "collapsed": false,
    "pycharm": {
     "name": "#%% md\n"
    }
   }
  },
  {
   "cell_type": "code",
   "execution_count": 1476,
   "outputs": [],
   "source": [
    "def backprop(theta, input_layer_size, hidden_layer_size, num_labels, X, Y, lamda):\n",
    "    X = np.insert(X, 0, values=np.ones(X.shape[0]), axis=1) \n",
    "    Y_Num = np.zeros((Y.shape[0], num_labels))\n",
    "    for i in range(Y.shape[0]):\n",
    "        Y_Num[i, Y[i] - 1] = 1\n",
    "    theta1, theta2 = deserialize(input_layer_size, hidden_layer_size, num_labels,theta)\n",
    "    z2 = X @ theta1.T\n",
    "    a2 = sigmoid(z2)\n",
    "    a2 = np.insert(a2, 0, values=np.ones(a2.shape[0]), axis=1)\n",
    "    z3 = a2 @ theta2.T\n",
    "    a3 = sigmoid(z3)\n",
    "    delta3 = a3 - Y_Num    #(5000,10)\n",
    "    delta2 = np.multiply(np.dot(delta3, theta2)[:, 1:], gradient_sigmoid(z2))\n",
    "    m = X.shape[0]\n",
    "    \n",
    "    D1 = np.dot(delta2.T, X)\n",
    "    D1 = D1 / m\n",
    "    theta1_modify = np.delete(theta1, 0, axis=1)\n",
    "    theta1_modify = np.insert(theta1_modify, 0, values=np.zeros(theta1_modify.shape[0]), axis=1)\n",
    "    regularzition_1 = lamda / m * theta1_modify\n",
    "    D1 = D1 + regularzition_1\n",
    "    \n",
    "    D2 = np.dot(delta3.T, a2)\n",
    "    D2 = D2 / m\n",
    "    theta2_modify = np.delete(theta2, 0, axis=1)\n",
    "    theta2_modify = np.insert(theta2_modify, 0, values=np.zeros(theta2_modify.shape[0]), axis=1)\n",
    "    regularzition_2 = lamda / m * theta2_modify\n",
    "    D2 = D2 + regularzition_2\n",
    "    grad = np.concatenate((np.ravel(D1), np.ravel(D2)))\n",
    "    print(grad.shape)\n",
    "    return grad"
   ],
   "metadata": {
    "collapsed": false,
    "pycharm": {
     "name": "#%%\n",
     "is_executing": false
    }
   }
  },
  {
   "cell_type": "markdown",
   "source": [
    "编写梯度下降检测函数"
   ],
   "metadata": {
    "collapsed": false
   }
  },
  {
   "cell_type": "code",
   "execution_count": 1477,
   "outputs": [],
   "source": [
    "def gradient_checking(input_layer_size, hidden_layer_size, num_labels, m):\n",
    "    def initialweight(output, input):\n",
    "        W = range(1, (input + 1) * output + 1)\n",
    "        W = np.reshape(np.sin(W), (output,input + 1)) / 10\n",
    "        return W\n",
    "    def computeNumericalGradient(input_layer_size, hidden_layer_size, num_labels, theta):\n",
    "        e = 0.0001\n",
    "        numgrid = np.zeros(len(theta))\n",
    "        perturb = np.zeros(len(theta))\n",
    "        for p in range(len(theta)):\n",
    "            perturb[p] = e\n",
    "            loss1 = nnCostFunction(theta + perturb, input_layer_size, hidden_layer_size, num_labels, X, Y, 1)\n",
    "            loss2 = nnCostFunction(theta - perturb, input_layer_size, hidden_layer_size, num_labels, X, Y, 1)\n",
    "            numgrid[p] = (loss1 - loss2) / (2*e)\n",
    "            perturb[p] = 0\n",
    "        return numgrid\n",
    "    theta1 = initialweight(hidden_layer_size, input_layer_size)\n",
    "    theta2 = initialweight(num_labels, hidden_layer_size)\n",
    "    theta = serialize(theta1, theta2)\n",
    "    X = initialweight(m, input_layer_size - 1)\n",
    "    Y = np.array([2,3,1,2,3])\n",
    "    grad = backprop(theta, input_layer_size, hidden_layer_size, num_labels, X, Y, 1)\n",
    "    numgrad = computeNumericalGradient(input_layer_size, hidden_layer_size, num_labels,theta)\n",
    "    diff = np.linalg.norm(numgrad-grad) / np.linalg.norm(numgrad+grad);\n",
    "    print(diff)\n",
    "    print(numgrad)"
   ],
   "metadata": {
    "collapsed": false,
    "pycharm": {
     "name": "#%%\n",
     "is_executing": false
    }
   }
  },
  {
   "cell_type": "code",
   "execution_count": 1478,
   "outputs": [],
   "source": [
    "#验证完求代价函数的导数是正确的的之后就可以关掉了，因为计算起来很慢\n",
    "#gradient_checking(input_layer_size=3, hidden_layer_size=5, num_labels=3, m=5)"
   ],
   "metadata": {
    "collapsed": false,
    "pycharm": {
     "name": "#%%\n",
     "is_executing": false
    }
   }
  },
  {
   "cell_type": "markdown",
   "source": [
    "开始训练网络\n"
   ],
   "metadata": {
    "collapsed": false
   }
  },
  {
   "cell_type": "code",
   "execution_count": 1479,
   "outputs": [
    {
     "name": "stdout",
     "text": [
      "(10285,)\n(10285,)\n",
      "(10285,)\n",
      "(10285,)\n(10285,)",
      "\n",
      "(10285,)\n(10285,)\n",
      "(10285,)\n(10285,)",
      "\n(10285,)\n",
      "(10285,)\n",
      "(10285,)\n(10285,)\n",
      "(10285,)\n",
      "(10285,)\n(10285,)\n",
      "(10285,)\n(10285,)\n",
      "(10285,)\n",
      "(10285,)\n(10285,)\n",
      "(10285,)\n(10285,)",
      "\n(10285,)\n",
      "(10285,)\n",
      "(10285,)\n(10285,)\n",
      "(10285,)\n(10285,)\n",
      "(10285,)\n(10285,)\n",
      "(10285,)\n",
      "(10285,)\n(10285,)\n",
      "(10285,)\n",
      "(10285,)\n(10285,)\n",
      "(10285,)\n",
      "(10285,)\n(10285,)\n",
      "(10285,)\n(10285,)",
      "\n(10285,)\n",
      "(10285,)\n",
      "(10285,)\n(10285,)\n",
      "(10285,)\n(10285,)",
      "\n(10285,)\n",
      "(10285,)\n",
      "(10285,)\n(10285,)\n",
      "(10285,)\n(10285,)\n",
      "(10285,)\n(10285,)\n",
      "(10285,)\n(10285,)\n",
      "(10285,)\n(10285,)\n",
      "(10285,)\n",
      "(10285,)\n(10285,)\n",
      "(10285,)\n",
      "(10285,)\n(10285,)\n",
      "(10285,)\n",
      "(10285,)\n(10285,)\n",
      "(10285,)\n",
      "(10285,)\n(10285,)\n",
      "(10285,)\n(10285,)\n",
      "(10285,)\n(10285,)",
      "\n",
      "(10285,)\n",
      "(10285,)\n",
      "(10285,)\n",
      "(10285,)\n",
      "(10285,)\n",
      "(10285,)\n(10285,)",
      "\n(10285,)\n",
      "(10285,)\n",
      "(10285,)\n(10285,)\n",
      "(10285,)\n(10285,)\n",
      "(10285,)\n(10285,)\n",
      "(10285,)\n(10285,)\n",
      "(10285,)\n",
      "(10285,)\n",
      "(10285,)\n(10285,)\n",
      "(10285,)\n(10285,)",
      "\n(10285,)\n",
      "(10285,)\n(10285,)\n",
      "(10285,)\n(10285,)\n",
      "(10285,)\n(10285,)\n",
      "(10285,)\n(10285,)\n",
      "(10285,)\n(10285,)\n",
      "(10285,)\n(10285,)\n",
      "(10285,)\n(10285,)\n",
      "(10285,)\n(10285,)",
      "\n(10285,)\n",
      "(10285,)\n",
      "(10285,)\n(10285,)\n",
      "(10285,)\n",
      "(10285,)\n(10285,)\n",
      "(10285,)\n(10285,)",
      "\n(10285,)\n",
      "(10285,)\n",
      "(10285,)\n(10285,)\n",
      "(10285,)\n",
      "(10285,)\n(10285,)",
      "\n(10285,)\n",
      "(10285,)\n",
      "(10285,)\n(10285,)\n",
      "(10285,)\n",
      "(10285,)\n(10285,)\n",
      "(10285,)\n",
      "(10285,)\n(10285,)\n",
      "(10285,)\n(10285,)\n",
      "(10285,)\n",
      "(10285,)\n(10285,)\n",
      "(10285,)\n",
      "(10285,)\n(10285,)\n",
      "(10285,)\n",
      "(10285,)\n(10285,)\n",
      "(10285,)\n(10285,)\n",
      "(10285,)\n",
      "(10285,)\n(10285,)\n",
      "(10285,)\n",
      "(10285,)\n(10285,)\n",
      "(10285,)\n",
      "(10285,)\n(10285,)\n",
      "(10285,)\n",
      "(10285,)\n",
      "(10285,)\n",
      "(10285,)\n",
      "(10285,)\n(10285,)\n",
      "(10285,)\n",
      "(10285,)\n(10285,)\n",
      "(10285,)\n",
      "(10285,)\n(10285,)\n",
      "(10285,)\n(10285,)\n",
      "(10285,)\n",
      "(10285,)\n(10285,)\n",
      "(10285,)\n",
      "(10285,)\n(10285,)\n",
      "(10285,)\n",
      "(10285,)\n(10285,)\n",
      "(10285,)\n(10285,)\n",
      "(10285,)\n",
      "(10285,)\n(10285,)\n",
      "(10285,)\n",
      "(10285,)\n(10285,)\n",
      "(10285,)\n",
      "(10285,)\n(10285,)\n",
      "(10285,)\n(10285,)",
      "\n(10285,)\n",
      "(10285,)\n",
      "(10285,)\n(10285,)\n",
      "(10285,)\n",
      "(10285,)\n(10285,)\n",
      "(10285,)\n",
      "(10285,)\n(10285,)\n",
      "(10285,)\n",
      "(10285,)\n",
      "(10285,)\n(10285,)",
      "\n",
      "(10285,)\n",
      "(10285,)\n(10285,)",
      "\n",
      "(10285,)\n(10285,)",
      "\n(10285,)\n",
      "(10285,)\n(10285,)\n",
      "(10285,)\n(10285,)\n",
      "(10285,)\n",
      "(10285,)\n(10285,)\n",
      "(10285,)\n(10285,)\n",
      "(10285,)\n",
      "(10285,)\n(10285,)\n",
      "(10285,)\n(10285,)\n",
      "(10285,)\n(10285,)\n",
      "(10285,)\n(10285,)\n",
      "(10285,)\n(10285,)\n",
      "(10285,)\n(10285,)",
      "\n(10285,)\n",
      "(10285,)\n(10285,)\n",
      "(10285,)\n(10285,)\n",
      "(10285,)\n(10285,)\n",
      "(10285,)\n(10285,)\n",
      "(10285,)\n(10285,)\n",
      "(10285,)\n(10285,)\n",
      "(10285,)\n(10285,)\n",
      "(10285,)\n(10285,)",
      "\n(10285,)\n",
      "(10285,)\n(10285,)\n",
      "(10285,)\n(10285,)\n",
      "(10285,)\n(10285,)\n",
      "(10285,)\n(10285,)\n",
      "(10285,)\n(10285,)",
      "\n(10285,)\n",
      "(10285,)\n(10285,)",
      "\n(10285,)\n",
      "(10285,)\n",
      "(10285,)\n(10285,)\n",
      "(10285,)\n(10285,)\n",
      "(10285,)\n(10285,)\n",
      "(10285,)\n(10285,)\n",
      "(10285,)\n(10285,)\n",
      "(10285,)\n(10285,)\n",
      "(10285,)\n(10285,)\n",
      "(10285,)\n(10285,)\n",
      "(10285,)\n(10285,)",
      "\n(10285,)\n",
      "(10285,)\n(10285,)\n",
      "(10285,)\n(10285,)\n",
      "(10285,)\n(10285,)\n",
      "(10285,)\n(10285,)\n",
      "(10285,)\n(10285,)\n",
      "(10285,)\n(10285,)\n",
      "(10285,)\n(10285,)\n",
      "(10285,)\n(10285,)\n",
      "(10285,)\n(10285,)\n",
      "(10285,)\n(10285,)\n",
      "(10285,)\n(10285,)\n",
      "(10285,)\n(10285,)\n",
      "(10285,)\n(10285,)\n",
      "(10285,)\n(10285,)\n",
      "(10285,)\n(10285,)\n",
      "(10285,)\n(10285,)\n",
      "(10285,)\n(10285,)\n",
      "(10285,)\n(10285,)\n",
      "(10285,)\n(10285,)\n",
      "(10285,)\n(10285,)\n",
      "(10285,)\n(10285,)\n",
      "(10285,)\n(10285,)\n",
      "(10285,)\n(10285,)\n",
      "(10285,)\n(10285,)\n",
      "(10285,)\n(10285,)\n",
      "(10285,)\n(10285,)\n",
      "(10285,)\n(10285,)",
      "\n(10285,)\n",
      "(10285,)\n",
      "(10285,)\n(10285,)\n",
      "(10285,)\n(10285,)\n",
      "(10285,)\n(10285,)\n",
      "(10285,)\n(10285,)\n",
      "(10285,)\n(10285,)\n",
      "(10285,)\n(10285,)\n",
      "(10285,)\n(10285,)\n",
      "(10285,)\n(10285,)\n",
      "(10285,)\n(10285,)\n",
      "(10285,)\n(10285,)",
      "\n(10285,)\n",
      "(10285,)\n(10285,)\n",
      "(10285,)\n(10285,)\n",
      "(10285,)\n(10285,)\n",
      "(10285,)\n(10285,)\n",
      "(10285,)\n(10285,)\n",
      "(10285,)\n(10285,)\n",
      "(10285,)\n(10285,)",
      "\n(10285,)\n",
      "(10285,)\n(10285,)",
      "\n(10285,)\n",
      "(10285,)\n(10285,)\n",
      "(10285,)\n(10285,)\n",
      "(10285,)\n(10285,)\n",
      "(10285,)\n(10285,)\n",
      "(10285,)\n(10285,)\n",
      "(10285,)\n(10285,)\n     fun: 0.3233141110942147\n     jac: array([ 2.32511049e-04, -1.45443520e-07, -1.51111069e-09, ...,\n       -2.42898968e-05, -6.73810423e-06,  1.06107478e-06])\n message: 'Max. number of function evaluations reached'\n    nfev: 400\n     nit: 28\n  status: 3\n success: False\n       x: array([-8.61596553e-01, -7.27217599e-04, -7.55555347e-06, ...,\n       -1.55847674e-01,  1.95024405e+00, -7.75044110e-01])\n"
     ],
     "output_type": "stream"
    }
   ],
   "source": [
    "input_layer_size = 400\n",
    "hidden_layer_size = 25\n",
    "num_labels = 10\n",
    "lamda = 1\n",
    "res = opt.minimize(fun= nnCostFunction, x0= initial_theta, args= (input_layer_size, hidden_layer_size, num_labels, X, Y, lamda), \n",
    "                   method='TNC', jac=backprop, options={'maxiter': 400})\n",
    "print(res)\n"
   ],
   "metadata": {
    "collapsed": false,
    "pycharm": {
     "name": "#%%\n",
     "is_executing": false
    }
   }
  },
  {
   "cell_type": "markdown",
   "source": [
    "编写预测函数\n"
   ],
   "metadata": {
    "collapsed": false,
    "pycharm": {
     "name": "#%% md\n"
    }
   }
  },
  {
   "cell_type": "code",
   "execution_count": 1480,
   "outputs": [],
   "source": [
    "def predict(theta, input_layer_size, hidden_layer_size, num_labels, X, Y):\n",
    "    X = np.insert(X, 0, values=np.ones(X.shape[0]), axis=1) \n",
    "    Y_Num = np.zeros((Y.shape[0], num_labels))\n",
    "    for i in range(Y.shape[0]):\n",
    "        Y_Num[i, Y[i] - 1] = 1\n",
    "    theta1, theta2 = deserialize(input_layer_size, hidden_layer_size, num_labels,theta)\n",
    "    z2 = X @ theta1.T\n",
    "    a2 = sigmoid(z2)\n",
    "    a2 = np.insert(a2, 0, values=np.ones(a2.shape[0]), axis=1)\n",
    "    z3 = a2 @ theta2.T\n",
    "    a3 = sigmoid(z3)\n",
    "    y_pred = np.argmax(a3, axis=1) + 1\n",
    "    # print(int(y_pred[10]))\n",
    "    count = 0;\n",
    "    for i in range(Y.shape[0]):\n",
    "        if int(y_pred[i]) == int(Y[i]):\n",
    "            count = count + 1\n",
    "    print( count / Y.shape[0])"
   ],
   "metadata": {
    "collapsed": false,
    "pycharm": {
     "name": "#%%\n",
     "is_executing": false
    }
   }
  },
  {
   "cell_type": "code",
   "execution_count": 1481,
   "outputs": [
    {
     "name": "stdout",
     "text": [
      "0.9954\n"
     ],
     "output_type": "stream"
    }
   ],
   "source": [
    "predict(theta= res.x, input_layer_size= 400 , hidden_layer_size= 25, num_labels= 10, X= X, Y= Y)\n",
    "\n"
   ],
   "metadata": {
    "collapsed": false,
    "pycharm": {
     "name": "#%%\n",
     "is_executing": false
    }
   }
  },
  {
   "cell_type": "markdown",
   "source": [
    "编写隐藏层可视化函数"
   ],
   "metadata": {
    "collapsed": false
   }
  },
  {
   "cell_type": "code",
   "execution_count": 1482,
   "outputs": [],
   "source": [
    "def plot_hiden(X):\n",
    "    X = np.insert(X, 0, values=np.ones(X.shape[0]), axis=1) \n",
    "    theta1, theta2 = deserialize(input_layer_size, hidden_layer_size, num_labels,theta)\n",
    "    z2 = X @ theta1.T\n",
    "    a2 = sigmoid(z2)\n",
    "    hiddden_X = a2\n",
    "    random_id = np.random.choice(range(hiddden_X.shape[0]), 25)\n",
    "    fig, ax = plt.subplots(nrows= 5, ncols= 5, sharex= True, sharey= True, figsize= (8,8))\n",
    "    size = int(np.sqrt(hiddden_X.shape[1]))\n",
    "    for i in range(5):\n",
    "        for j in range(5):\n",
    "            ax[i, j].matshow(hiddden_X[random_id[5 * i + j]].reshape((size, size)), cmap= matplotlib.cm.binary)\n",
    "            plt.xticks([])\n",
    "            plt.yticks([])\n",
    "    plt.show()"
   ],
   "metadata": {
    "collapsed": false,
    "pycharm": {
     "name": "#%%\n",
     "is_executing": false
    }
   }
  },
  {
   "cell_type": "code",
   "execution_count": 1483,
   "outputs": [
    {
     "data": {
      "text/plain": "<Figure size 576x576 with 25 Axes>",
      "image/png": "[encoded data removed]"
     },
     "metadata": {},
     "output_type": "display_data"
    }
   ],
   "source": [
    "plot_hiden(X)\n",
    "\n"
   ],
   "metadata": {
    "collapsed": false,
    "pycharm": {
     "name": "#%%\n",
     "is_executing": false
    }
   }
  }
 ],
 "metadata": {
  "language_info": {
   "codemirror_mode": {
    "name": "ipython",
    "version": 2
   },
   "file_extension": ".py",
   "mimetype": "text/x-python",
   "name": "python",
   "nbconvert_exporter": "python",
   "pygments_lexer": "ipython2",
   "version": "2.7.6"
  },
  "kernelspec": {
   "name": "python3",
   "language": "python",
   "display_name": "Python 3"
  },
  "pycharm": {
   "stem_cell": {
    "cell_type": "raw",
    "source": [],
    "metadata": {
     "collapsed": false
    }
   }
  }
 },
 "nbformat": 4,
 "nbformat_minor": 0
}