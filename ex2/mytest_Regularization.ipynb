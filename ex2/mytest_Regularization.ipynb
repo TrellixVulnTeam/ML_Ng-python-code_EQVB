{
 "cells": [
  {
   "cell_type": "code",
   "execution_count": 78,
   "outputs": [],
   "source": [
    "import numpy as np\n",
    "import pandas as pd\n",
    "import matplotlib.pyplot as plt\n",
    "import scipy.optimize as opt"
   ],
   "metadata": {
    "collapsed": false,
    "pycharm": {
     "name": "#%%\n",
     "is_executing": false
    }
   }
  },
  {
   "cell_type": "markdown",
   "metadata": {
    "collapsed": true,
    "pycharm": {
     "name": "#%% md\n"
    }
   },
   "source": [
    "导入数据"
   ]
  },
  {
   "cell_type": "code",
   "execution_count": 79,
   "outputs": [
    {
     "data": {
      "text/plain": "      Test1    Test2  result\n0  0.051267  0.69956       1\n1 -0.092742  0.68494       1\n2 -0.213710  0.69225       1\n3 -0.375000  0.50219       1\n4 -0.513250  0.46564       1",
      "text/html": "<div>\n<style scoped>\n    .dataframe tbody tr th:only-of-type {\n        vertical-align: middle;\n    }\n\n    .dataframe tbody tr th {\n        vertical-align: top;\n    }\n\n    .dataframe thead th {\n        text-align: right;\n    }\n</style>\n<table border=\"1\" class=\"dataframe\">\n  <thead>\n    <tr style=\"text-align: right;\">\n      <th></th>\n      <th>Test1</th>\n      <th>Test2</th>\n      <th>result</th>\n    </tr>\n  </thead>\n  <tbody>\n    <tr>\n      <th>0</th>\n      <td>0.051267</td>\n      <td>0.69956</td>\n      <td>1</td>\n    </tr>\n    <tr>\n      <th>1</th>\n      <td>-0.092742</td>\n      <td>0.68494</td>\n      <td>1</td>\n    </tr>\n    <tr>\n      <th>2</th>\n      <td>-0.213710</td>\n      <td>0.69225</td>\n      <td>1</td>\n    </tr>\n    <tr>\n      <th>3</th>\n      <td>-0.375000</td>\n      <td>0.50219</td>\n      <td>1</td>\n    </tr>\n    <tr>\n      <th>4</th>\n      <td>-0.513250</td>\n      <td>0.46564</td>\n      <td>1</td>\n    </tr>\n  </tbody>\n</table>\n</div>"
     },
     "metadata": {},
     "output_type": "execute_result",
     "execution_count": 79
    }
   ],
   "source": [
    "path = 'ex2data2.txt'\n",
    "data = pd.read_csv(path, header=None, names=['Test1', 'Test2', 'result'])\n",
    "data.head()\n",
    "\n"
   ],
   "metadata": {
    "collapsed": false,
    "pycharm": {
     "name": "#%%\n",
     "is_executing": false
    }
   }
  },
  {
   "cell_type": "markdown",
   "source": [
    "画出数据的散点图"
   ],
   "metadata": {
    "collapsed": false
   }
  },
  {
   "cell_type": "code",
   "execution_count": 80,
   "outputs": [
    {
     "data": {
      "text/plain": "<Figure size 864x576 with 1 Axes>",
      "image/png": "[encoded data removed]"
     },
     "metadata": {
      "needs_background": "light"
     },
     "output_type": "display_data"
    }
   ],
   "source": [
    "positive = data[data['result'].isin([1])]\n",
    "negtive = data[data['result'].isin([0])]\n",
    "fig, ax = plt.subplots(figsize=(12,8))\n",
    "ax.scatter(positive['Test1'], positive['Test2'], c='black', marker='+', label='pass')\n",
    "ax.scatter(negtive['Test1'], negtive['Test2'], c='y', marker='o', label='not pass')\n",
    "plt.legend()\n",
    "plt.xlabel('Test1')\n",
    "plt.ylabel('Test2')\n",
    "plt.show()\n"
   ],
   "metadata": {
    "collapsed": false,
    "pycharm": {
     "name": "#%%\n",
     "is_executing": false
    }
   }
  },
  {
   "cell_type": "markdown",
   "source": [
    "编写sigmoid函数"
   ],
   "metadata": {
    "collapsed": false
   }
  },
  {
   "cell_type": "code",
   "execution_count": 81,
   "outputs": [],
   "source": [
    "def sigmoid(z):\n",
    "    return 1/(1 + np.exp(-z))"
   ],
   "metadata": {
    "collapsed": false,
    "pycharm": {
     "name": "#%%\n",
     "is_executing": false
    }
   }
  },
  {
   "cell_type": "markdown",
   "source": [
    "编写CostFunction\n",
    "\n"
   ],
   "metadata": {
    "collapsed": false,
    "pycharm": {
     "name": "#%% md\n"
    }
   }
  },
  {
   "cell_type": "code",
   "execution_count": 82,
   "outputs": [],
   "source": [
    "def cost(theta, X, Y, learnningrate = 1):\n",
    "    theta = np.matrix(theta)\n",
    "    # X = np.matrix(X)\n",
    "    # Y = np.matrix(Y)\n",
    "    first = np.multiply(-Y, np.log(sigmoid(X * theta.T)))\n",
    "    second = np.multiply((1 - Y), np.log(1 - sigmoid(X * theta.T)))\n",
    "    reg = (learnningrate / (2 * len(X))) * np.sum(np.power(theta[:,1:theta.shape[1]], 2))\n",
    "    return np.sum(first - second) / len(X) + reg"
   ],
   "metadata": {
    "collapsed": false,
    "pycharm": {
     "name": "#%%\n",
     "is_executing": false
    }
   }
  },
  {
   "cell_type": "markdown",
   "source": [
    "编写gradient函数"
   ],
   "metadata": {
    "collapsed": false,
    "pycharm": {
     "name": "#%% md\n"
    }
   }
  },
  {
   "cell_type": "code",
   "execution_count": 83,
   "outputs": [],
   "source": [
    "def gradient_decent(theta, X, Y, learningrate = 1):\n",
    "    theta = np.matrix(theta)\n",
    "    # X = np.matrix(X)\n",
    "    # Y = np.matrix(Y)\n",
    "    step_1 = sigmoid(X * theta.T)\n",
    "    first = ((step_1 - Y).T * X) / len(X)\n",
    "    second = np.multiply(learningrate/len(X), theta)\n",
    "    return first + second\n"
   ],
   "metadata": {
    "collapsed": false,
    "pycharm": {
     "name": "#%%\n",
     "is_executing": false
    }
   }
  },
  {
   "cell_type": "markdown",
   "source": [
    "扩充数据增加维度，以得到曲线分界线\n"
   ],
   "metadata": {
    "collapsed": false,
    "pycharm": {
     "name": "#%% md\n"
    }
   }
  },
  {
   "cell_type": "code",
   "execution_count": 84,
   "outputs": [],
   "source": [
    "def mapFeature(x1, x2):\n",
    "    degree = 5\n",
    "    temp = {}\n",
    "    for i in range(1, degree + 1):\n",
    "        for j in range(0, i + 1):\n",
    "            temp[\"f{}{}\".format(i - j, j)] = np.power(x1, i - j) * np.power(x2, j)\n",
    "    result = pd.DataFrame(temp)\n",
    "    result.insert(0, 'ones', 1)\n",
    "    return result\n",
    "    \n"
   ],
   "metadata": {
    "collapsed": false,
    "pycharm": {
     "name": "#%%\n",
     "is_executing": false
    }
   }
  },
  {
   "cell_type": "markdown",
   "source": [
    "提取数据\n"
   ],
   "metadata": {
    "collapsed": false
   }
  },
  {
   "cell_type": "code",
   "execution_count": 85,
   "outputs": [],
   "source": [
    "Y = data['result']\n",
    "x1 = data['Test1']\n",
    "x2 = data['Test2']\n",
    "X = mapFeature(x1,x2)\n",
    "# X.insert(0, 'ones', 1)\n",
    "X.head()\n",
    "cols = X.shape[1]\n",
    "theta = np.zeros(cols)\n",
    "X = np.matrix(X)\n",
    "Y = np.matrix(Y).T\n",
    "theta = np.matrix(theta)\n",
    "learnningrate = 1"
   ],
   "metadata": {
    "collapsed": false,
    "pycharm": {
     "name": "#%%\n",
     "is_executing": false
    }
   }
  },
  {
   "cell_type": "markdown",
   "source": [
    "计算梯度下降\n",
    "!!!!!特别注意在使用scipy.optimize包中的fmin_tnc函数时，传入的theta会从（1,21）的矩阵，变成一个数组，\n",
    "如此一来会使cost和gradient_decent函数不能正常运行。解决该问题的方法就是在这两个函数内部将theta重新从\n",
    "数组变成矩阵。"
   ],
   "metadata": {
    "collapsed": false,
    "pycharm": {
     "name": "#%% md\n",
     "is_executing": false
    }
   }
  },
  {
   "cell_type": "code",
   "execution_count": 86,
   "outputs": [
    {
     "name": "stdout",
     "text": [
      "(array([ 1.14607132,  0.58915222,  1.17558641, -2.03283647, -0.88829988,\n       -1.39057199,  0.04672391, -0.36935195, -0.33309412, -0.30074293,\n       -1.5992483 , -0.03982298, -0.61846411, -0.2451428 , -1.37472503,\n       -0.34761008, -0.21526672, -0.04422287, -0.2846862 , -0.27426244,\n       -0.67102999]), 50, 4)\n"
     ],
     "output_type": "stream"
    }
   ],
   "source": [
    "Y.shape\n",
    "gradient_decent(theta, X, Y)\n",
    "result = opt.fmin_tnc(func=cost, x0=theta, fprime=gradient_decent, args=(X, Y))\n",
    "print(result)"
   ],
   "metadata": {
    "collapsed": false,
    "pycharm": {
     "name": "#%%\n",
     "is_executing": false
    }
   }
  },
  {
   "cell_type": "markdown",
   "source": [
    "编写预测函数"
   ],
   "metadata": {
    "collapsed": false
   }
  },
  {
   "cell_type": "code",
   "execution_count": 87,
   "outputs": [],
   "source": [
    "def predict(X, Y, theta):\n",
    "    pre_y = sigmoid(X * theta.T)\n",
    "    count = 0\n",
    "    for i in range(X.shape[1]):\n",
    "        if (pre_y[i] >= 0.5 and Y[i] == 1) or (pre_y[i] < 0.5 and Y[i] == 0):\n",
    "            count = count + 1\n",
    "    print('the accuracy is %s' % str(count/X.shape[1]))"
   ],
   "metadata": {
    "collapsed": false,
    "pycharm": {
     "name": "#%%\n",
     "is_executing": false
    }
   }
  },
  {
   "cell_type": "code",
   "execution_count": 88,
   "outputs": [
    {
     "name": "stdout",
     "text": [
      "(1, 21)\nthe accuracy is 0.9047619047619048\n"
     ],
     "output_type": "stream"
    }
   ],
   "source": [
    "final_theta = np.matrix(result[0])\n",
    "print(final_theta.shape)\n",
    "predict(X, Y, final_theta)\n"
   ],
   "metadata": {
    "collapsed": false,
    "pycharm": {
     "name": "#%%\n",
     "is_executing": false
    }
   }
  },
  {
   "cell_type": "markdown",
   "source": [
    "编写适用于分界线的投射函数"
   ],
   "metadata": {
    "collapsed": false
   }
  },
  {
   "cell_type": "code",
   "execution_count": 89,
   "outputs": [],
   "source": [
    "def MapFeatureforPlot(a1, a2):\n",
    "    degree = 5\n",
    "    temp = [1]\n",
    "    for i in range(1, degree + 1):\n",
    "        for j in range(0, i + 1):\n",
    "            temp.append(np.power(a1, i - j) * np.power(a2, j))       \n",
    "    temp = np.matrix(temp)\n",
    "    return temp"
   ],
   "metadata": {
    "collapsed": false,
    "pycharm": {
     "name": "#%%\n",
     "is_executing": false
    }
   }
  },
  {
   "cell_type": "markdown",
   "source": [
    "编写分界线\n"
   ],
   "metadata": {
    "collapsed": false,
    "pycharm": {
     "name": "#%% md\n"
    }
   }
  },
  {
   "cell_type": "code",
   "execution_count": 90,
   "outputs": [
    {
     "name": "stdout",
     "text": [
      "(100, 100)\n"
     ],
     "output_type": "stream"
    },
    {
     "data": {
      "text/plain": "<Figure size 864x576 with 1 Axes>",
      "image/png": "[encoded data removed]"
     },
     "metadata": {
      "needs_background": "light"
     },
     "output_type": "display_data"
    }
   ],
   "source": [
    "u = np.linspace(-1, 1.5, 50)\n",
    "v = np.linspace(-1, 1.5, 50)\n",
    "z = np.zeros((len(u), len(v)))\n",
    "for i in range(len(u)):\n",
    "    for j in range(len(v)):\n",
    "        z[i][j] = MapFeatureforPlot(u[i], v[j]) * final_theta.T\n",
    "print(z.shape)\n",
    "\n",
    "\n",
    "positive = data[data['result'].isin([1])]\n",
    "negtive = data[data['result'].isin([0])]\n",
    "fig, ax = plt.subplots(figsize=(12,8))\n",
    "ax.scatter(positive['Test1'], positive['Test2'], c='black', marker='+', label='pass')\n",
    "ax.scatter(negtive['Test1'], negtive['Test2'], c='y', marker='o', label='not pass')\n",
    "plt.legend()\n",
    "plt.xlabel('Test1')\n",
    "plt.ylabel('Test2')\n",
    "\n",
    "\n",
    "U,V = np.meshgrid(u,v)\n",
    "line_lv = [0]\n",
    "#levels用来指定显示的等高线的数据\n",
    "contour = plt.contour(U,V,z,levels=line_lv,colors='k')\n",
    "\n",
    "plt.show()"
   ],
   "metadata": {
    "collapsed": false,
    "pycharm": {
     "name": "#%%\n",
     "is_executing": false
    }
   }
  }
 ],
 "metadata": {
  "language_info": {
   "codemirror_mode": {
    "name": "ipython",
    "version": 2
   },
   "file_extension": ".py",
   "mimetype": "text/x-python",
   "name": "python",
   "nbconvert_exporter": "python",
   "pygments_lexer": "ipython2",
   "version": "2.7.6"
  },
  "kernelspec": {
   "name": "python3",
   "language": "python",
   "display_name": "Python 3"
  },
  "pycharm": {
   "stem_cell": {
    "cell_type": "raw",
    "source": [],
    "metadata": {
     "collapsed": false
    }
   }
  }
 },
 "nbformat": 4,
 "nbformat_minor": 0
}