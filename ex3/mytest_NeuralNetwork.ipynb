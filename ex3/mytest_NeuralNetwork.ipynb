{
 "cells": [
  {
   "cell_type": "code",
   "execution_count": 43,
   "metadata": {
    "collapsed": true,
    "pycharm": {
     "is_executing": false
    }
   },
   "outputs": [],
   "source": [
    "import matplotlib\n",
    "import pandas as pd\n",
    "import numpy as np\n",
    "import matplotlib.pyplot as plt\n",
    "import scipy.io as sio\n"
   ]
  },
  {
   "cell_type": "code",
   "execution_count": 44,
   "outputs": [],
   "source": [
    "path_example = 'ex3data1.mat'\n",
    "data_example = sio.loadmat(path_example)\n",
    "X = data_example.get('X')\n",
    "Y = data_example.get('y')"
   ],
   "metadata": {
    "collapsed": false,
    "pycharm": {
     "name": "#%%\n",
     "is_executing": false
    }
   }
  },
  {
   "cell_type": "markdown",
   "source": [
    "编写绘制100张图的函数"
   ],
   "metadata": {
    "collapsed": false,
    "pycharm": {
     "name": "#%% md\n",
     "is_executing": false
    }
   }
  },
  {
   "cell_type": "code",
   "execution_count": 45,
   "outputs": [],
   "source": [
    "def plot_100img(X):\n",
    "    random_id = np.random.choice(range(X.shape[0]), 100)\n",
    "    fig, ax = plt.subplots(ncols= 10, nrows= 10, sharex= True, sharey= True, figsize= (8,8))\n",
    "    size = int(np.sqrt(X.shape[1]))\n",
    "    for i in range(10):\n",
    "        for j in range(10):\n",
    "            ax[i, j].matshow(X[random_id[10 * i + j]].reshape((size, size)), cmap=matplotlib.cm.binary)\n",
    "            plt.xticks([])\n",
    "            plt.yticks([])\n",
    "    plt.show()\n",
    "\n"
   ],
   "metadata": {
    "collapsed": false,
    "pycharm": {
     "name": "#%%\n",
     "is_executing": false
    }
   }
  },
  {
   "cell_type": "markdown",
   "source": [
    "编写sigmoid函数\n"
   ],
   "metadata": {
    "collapsed": false,
    "pycharm": {
     "name": "#%% md\n"
    }
   }
  },
  {
   "cell_type": "code",
   "execution_count": 46,
   "outputs": [],
   "source": [
    "def sigmoid(z):\n",
    "    return 1/(1 + np.exp(-z))"
   ],
   "metadata": {
    "collapsed": false,
    "pycharm": {
     "name": "#%%\n",
     "is_executing": false
    }
   }
  },
  {
   "cell_type": "code",
   "execution_count": 47,
   "outputs": [],
   "source": [
    "#因为这个函数运行很费时间，所以一般不让他运行\n",
    "# plot_100img(X)"
   ],
   "metadata": {
    "collapsed": false,
    "pycharm": {
     "name": "#%%\n",
     "is_executing": false
    }
   }
  },
  {
   "cell_type": "markdown",
   "source": [
    "加载theta数据\n"
   ],
   "metadata": {
    "collapsed": false,
    "pycharm": {
     "name": "#%% md\n"
    }
   }
  },
  {
   "cell_type": "code",
   "execution_count": 48,
   "outputs": [],
   "source": [
    "path_weight = 'ex3weights.mat'\n",
    "data_weight = sio.loadmat(path_weight)\n",
    "theta1 = data_weight.get('Theta1')\n",
    "theta2 = data_weight.get('Theta2')\n",
    "X = np.insert(X, 0, values=np.ones(X.shape[0]), axis=1)\n"
   ],
   "metadata": {
    "collapsed": false,
    "pycharm": {
     "name": "#%%\n",
     "is_executing": false
    }
   }
  },
  {
   "cell_type": "code",
   "execution_count": 49,
   "outputs": [
    {
     "name": "stdout",
     "text": [
      "0.9752\n"
     ],
     "output_type": "stream"
    }
   ],
   "source": [
    "a1 = X\n",
    "z2 = a1 @ theta1.T\n",
    "a2 = sigmoid(z2)\n",
    "a2 = np.insert(a2, 0, values=np.ones(a2.shape[0]), axis=1)\n",
    "z3 = a2 @ theta2.T\n",
    "a3 = sigmoid(z3)\n",
    "y_pred = np.argmax(a3, axis=1) + 1\n",
    "# print(int(y_pred[10]))\n",
    "count = 0;\n",
    "for i in range(Y.shape[0]):\n",
    "    if int(y_pred[i]) == int(Y[i]):\n",
    "        count = count + 1\n",
    "print( count / Y.shape[0])\n"
   ],
   "metadata": {
    "collapsed": false,
    "pycharm": {
     "name": "#%%\n",
     "is_executing": false
    }
   }
  }
 ],
 "metadata": {
  "language_info": {
   "codemirror_mode": {
    "name": "ipython",
    "version": 2
   },
   "file_extension": ".py",
   "mimetype": "text/x-python",
   "name": "python",
   "nbconvert_exporter": "python",
   "pygments_lexer": "ipython2",
   "version": "2.7.6"
  },
  "kernelspec": {
   "name": "python3",
   "language": "python",
   "display_name": "Python 3"
  },
  "pycharm": {
   "stem_cell": {
    "cell_type": "raw",
    "source": [],
    "metadata": {
     "collapsed": false
    }
   }
  }
 },
 "nbformat": 4,
 "nbformat_minor": 0
}