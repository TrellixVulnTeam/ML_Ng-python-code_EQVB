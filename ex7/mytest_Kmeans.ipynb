{
 "cells": [
  {
   "cell_type": "code",
   "execution_count": null,
   "metadata": {
    "collapsed": true,
    "pycharm": {
     "is_executing": true
    }
   },
   "outputs": [],
   "source": [
    "import numpy as np\n",
    "import scipy.io as sio\n",
    "import pandas as pd\n",
    "import matplotlib.pyplot as plt\n"
   ]
  },
  {
   "cell_type": "markdown",
   "source": [
    "提取data2的数据"
   ],
   "metadata": {
    "collapsed": false,
    "pycharm": {
     "name": "#%% md\n"
    }
   }
  },
  {
   "cell_type": "code",
   "execution_count": null,
   "outputs": [],
   "source": [
    "path = 'data/ex7data2.mat'\n",
    "data2 = sio.loadmat(path)"
   ],
   "metadata": {
    "collapsed": false,
    "pycharm": {
     "name": "#%%\n",
     "is_executing": true
    }
   }
  },
  {
   "cell_type": "markdown",
   "source": [
    "编写计算各个点归属于哪个类和cost的函数"
   ],
   "metadata": {
    "collapsed": false,
    "pycharm": {
     "name": "#%% md\n"
    }
   }
  },
  {
   "cell_type": "code",
   "execution_count": null,
   "outputs": [],
   "source": [
    "def findClosestCentroids(X, centroids):\n",
    "    c_i = np.zeros(X.shape[0])\n",
    "    J = 0\n",
    "    for i in range(X.shape[0]):\n",
    "        dis = np.inf\n",
    "        for j in range(centroids.shape[0]):\n",
    "            temp_dis = 0\n",
    "            for z in range(X.shape[1]):\n",
    "                temp_dis = temp_dis + (X[i, z] - centroids[j, z])**2\n",
    "            if temp_dis < dis:\n",
    "                dis = temp_dis\n",
    "                c_i[i] = j + 1\n",
    "        J = J + temp_dis \n",
    "    return c_i, J / X.shape[0]\n",
    "\n",
    "#编写测试函数\n",
    "# X = data2['X']\n",
    "# init_centriods = np.array([3, 3, 6, 2, 8, 5]).reshape((3,2))\n",
    "# hah, J = findClosestCentroids(X, init_centriods)\n",
    "# print(hah)"
   ],
   "metadata": {
    "collapsed": false,
    "pycharm": {
     "name": "#%%\n",
     "is_executing": true
    }
   }
  },
  {
   "cell_type": "markdown",
   "source": [
    "编写计算分得的类的中心点的函数"
   ],
   "metadata": {
    "collapsed": false,
    "pycharm": {
     "name": "#%% md\n"
    }
   }
  },
  {
   "cell_type": "code",
   "execution_count": null,
   "outputs": [],
   "source": [
    "def computeCentroids(c_i, X, K):\n",
    "    data = pd.DataFrame(X)\n",
    "    data['cluster'] = c_i\n",
    "    centroids = np.zeros((K, X.shape[1]))\n",
    "    for i in range(K):\n",
    "        group = data[data['cluster'].isin([i + 1])]\n",
    "        for z in range(X.shape[1]):\n",
    "            centroids[i, z] = np.mean(group[z])\n",
    "    return centroids\n",
    "    \n",
    "#测试函数功能\n",
    "# X = data2['X']\n",
    "# init_centriods = np.array([3, 3, 6, 2, 8, 5]).reshape((3,2))\n",
    "# c_i, J = findClosestCentroids(X, init_centriods)\n",
    "# haha = computeCentroids(c_i, X, K= 3)\n",
    "# print(haha)\n",
    "  "
   ],
   "metadata": {
    "collapsed": false,
    "pycharm": {
     "name": "#%%\n",
     "is_executing": true
    }
   }
  },
  {
   "cell_type": "markdown",
   "source": [
    "编写画出X的分类图"
   ],
   "metadata": {
    "collapsed": false,
    "pycharm": {
     "name": "#%% md\n"
    }
   }
  },
  {
   "cell_type": "code",
   "execution_count": null,
   "outputs": [],
   "source": [
    "def plot_cluster(X, c_i, K, fig, ax):\n",
    "    data = pd.DataFrame(X, columns=['X', 'Y'])\n",
    "    data['cluster'] = c_i\n",
    "    # fig, ax = plt.subplots(figsize = (12,8))\n",
    "    mycolor = ['#FF0000', '#00FF00', '#0000FF']\n",
    "    for i in range(K):\n",
    "        group = data[data['cluster'].isin([i + 1])]\n",
    "        ax.scatter(group['X'], group['Y'], marker = '+', c= mycolor[i])\n",
    "        \n",
    "#测试函数\n",
    "# X = data2['X']\n",
    "# init_centriods = np.array([3, 3, 6, 2, 8, 5]).reshape((3,2))\n",
    "# c_i, J = findClosestCentroids(X, init_centriods)\n",
    "# plot_cluster(X, c_i, 3)\n",
    "# plt.show()\n"
   ],
   "metadata": {
    "collapsed": false,
    "pycharm": {
     "name": "#%%\n",
     "is_executing": true
    }
   }
  },
  {
   "cell_type": "markdown",
   "source": [
    "画出centroid的图像"
   ],
   "metadata": {
    "collapsed": false,
    "pycharm": {
     "name": "#%% md\n"
    }
   }
  },
  {
   "cell_type": "code",
   "execution_count": null,
   "outputs": [],
   "source": [
    "def plot_centriod(centroid, fig, ax):\n",
    "    # fig, ax = plt.subplots(figsize = (12,8))\n",
    "    mycolor = ['#FF0000', '#00FF00', '#0000FF']\n",
    "    for i in range(centroid.shape[0]):\n",
    "        ax.scatter(centroid[i, 0], centroid[i, 1], c= mycolor[i], marker= 'o', linewidth= 10)\n",
    "\n",
    "#测试函数功能\n",
    "# X = data2['X']\n",
    "# init_centriods = np.array([3, 3, 6, 2, 8, 5]).reshape((3,2))\n",
    "# c_i, J = findClosestCentroids(X, init_centriods)\n",
    "# centroid = computeCentroids(c_i, X, K= 3)\n",
    "# plot_centriod(centroid)"
   ],
   "metadata": {
    "collapsed": false,
    "pycharm": {
     "name": "#%%\n",
     "is_executing": true
    }
   }
  },
  {
   "cell_type": "code",
   "execution_count": null,
   "outputs": [],
   "source": [
    "def train_Kmeans(X, K, max_iters):\n",
    "    #先画出原始的X图像\n",
    "    fig, ax = plt.subplots(figsize = (12,8))\n",
    "    ax.scatter(X[:, 0], X[:, 1], c= 'black', marker= '+')\n",
    "    \n",
    "    init_centriods_id = np.random.choice(range(X.shape[0]), K)\n",
    "    centriods = data2['X'][init_centriods_id]\n",
    "\n",
    "    plot_centriod(centriods, fig, ax)\n",
    "    #让标题可以显示中文的设置\n",
    "    plt.rcParams['font.sans-serif']=['SimHei']\n",
    "    plt.rcParams['axes.unicode_minus'] = False\n",
    "    plt.title('原始X及初始化的中心点位置')\n",
    "    plt.show()\n",
    "    J = np.inf\n",
    "    for i in range(max_iters):\n",
    "        \n",
    "        c_i, J_temp = findClosestCentroids(X, centriods)\n",
    "        if J_temp < J:\n",
    "            J = J_temp\n",
    "            fig, ax = plt.subplots(figsize = (12,8))\n",
    "            plot_cluster(X, c_i, K, fig, ax)\n",
    "            centriods = computeCentroids(c_i, X, K)\n",
    "            plot_centriod(centriods, fig, ax)\n",
    "            plt.title('迭代' + str(i + 1) + '次后的分类情况及中心点位置')\n",
    "            plt.show()\n",
    "        else:\n",
    "            break\n",
    "    \n",
    "#测试函数功能\n",
    "train_Kmeans(data2['X'], 3, 10)"
   ],
   "metadata": {
    "collapsed": false,
    "pycharm": {
     "name": "#%%\n",
     "is_executing": true
    }
   }
  },
  {
   "cell_type": "markdown",
   "source": [
    "加载图像数据"
   ],
   "metadata": {
    "collapsed": false,
    "pycharm": {
     "name": "#%% md\n",
     "is_executing": false
    }
   }
  },
  {
   "cell_type": "code",
   "execution_count": null,
   "outputs": [],
   "source": [
    "from skimage import io\n",
    "\n",
    "path_bird = 'data/bird_small.png'\n",
    "path_me = 'data/me.jpg'\n",
    "bird = io.imread(path_bird)\n",
    "me = io.imread(path_me)\n",
    "print(me.shape)"
   ],
   "metadata": {
    "collapsed": false,
    "pycharm": {
     "name": "#%%\n",
     "is_executing": true
    }
   }
  },
  {
   "cell_type": "markdown",
   "source": [
    "压缩图片"
   ],
   "metadata": {
    "collapsed": false,
    "pycharm": {
     "name": "#%% md\n"
    }
   }
  },
  {
   "cell_type": "code",
   "execution_count": null,
   "outputs": [],
   "source": [
    "def compress(data, K, max_iters, RGB_space):\n",
    "    data = data / 255  \n",
    "    X = np.reshape(data, (data.shape[0] * data.shape[1], RGB_space))\n",
    "    #初始化中心点\n",
    "    init_centriods_id = np.random.choice(range(X.shape[0]), K)\n",
    "    centriods = X[init_centriods_id, :]\n",
    "    J = np.inf\n",
    "    for i in range(max_iters):\n",
    "        c_i, J_temp = findClosestCentroids(X, centriods)\n",
    "        if J_temp < J:\n",
    "            J = J_temp\n",
    "            centriods = computeCentroids(c_i, X, K)            \n",
    "        else:\n",
    "            break\n",
    "    c_i, J_temp = findClosestCentroids(X, centriods)\n",
    "    #把c_i的下标索引和centriods匹配\n",
    "    c_i = c_i - 1\n",
    "    X_recovered = centriods[c_i.astype(int),:]\n",
    "    X_recovered = np.reshape(X_recovered, (data.shape[0], data.shape[1], data.shape[2]))\n",
    "    \n",
    "    plt.subplot(121)\n",
    "    plt.title('原图')\n",
    "    plt.imshow(data)\n",
    "    \n",
    "    plt.subplot(122)\n",
    "    plt.title('压缩后的图')\n",
    "    plt.imshow(X_recovered)\n",
    "    \n",
    "    plt.show()\n",
    "    "
   ],
   "metadata": {
    "collapsed": false,
    "pycharm": {
     "name": "#%%\n",
     "is_executing": true
    }
   }
  },
  {
   "cell_type": "code",
   "execution_count": null,
   "outputs": [],
   "source": [
    "K = 50; \n",
    "max_iters = 10\n",
    "#compress(bird, K, max_iters, bird.shape[2])\n",
    "compress(me, K, max_iters, me.shape[2])\n",
    "\n",
    "\n"
   ],
   "metadata": {
    "collapsed": false,
    "pycharm": {
     "name": "#%%\n",
     "is_executing": true
    }
   }
  }
 ],
 "metadata": {
  "language_info": {
   "codemirror_mode": {
    "name": "ipython",
    "version": 2
   },
   "file_extension": ".py",
   "mimetype": "text/x-python",
   "name": "python",
   "nbconvert_exporter": "python",
   "pygments_lexer": "ipython2",
   "version": "2.7.6"
  },
  "kernelspec": {
   "name": "python3",
   "language": "python",
   "display_name": "Python 3"
  },
  "pycharm": {
   "stem_cell": {
    "cell_type": "raw",
    "source": [],
    "metadata": {
     "collapsed": false
    }
   }
  }
 },
 "nbformat": 4,
 "nbformat_minor": 0
}