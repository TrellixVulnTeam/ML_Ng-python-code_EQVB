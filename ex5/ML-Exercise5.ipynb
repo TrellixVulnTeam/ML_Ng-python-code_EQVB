{
 "cells": [
  {
   "cell_type": "markdown",
   "metadata": {},
   "source": [
    "# 机器学习练习 5 - 偏差和方差"
   ]
  },
  {
   "cell_type": "markdown",
   "metadata": {},
   "source": [
    "本章代码涵盖了基于Python的解决方案，用于Coursera机器学习课程的第五个编程练习。 请参考[练习文本](ex5.pdf)了解详细的说明和公式。\n",
    "\n",
    "代码修改并注释：黄海广，haiguang2000@qq.com"
   ]
  },
  {
   "cell_type": "code",
   "execution_count": 46,
   "metadata": {
    "collapsed": true,
    "pycharm": {
     "is_executing": false
    }
   },
   "outputs": [],
   "source": [
    "import numpy as np\n",
    "import scipy.io as sio\n",
    "import scipy.optimize as opt\n",
    "import pandas as pd\n",
    "import matplotlib.pyplot as plt\n",
    "import seaborn as sns"
   ]
  },
  {
   "cell_type": "code",
   "execution_count": 47,
   "metadata": {
    "collapsed": true,
    "pycharm": {
     "is_executing": false
    }
   },
   "outputs": [],
   "source": [
    "def load_data():\n",
    "    \"\"\"for ex5\n",
    "    d['X'] shape = (12, 1)\n",
    "    pandas has trouble taking this 2d ndarray to construct a dataframe, so I ravel\n",
    "    the results\n",
    "    \"\"\"\n",
    "    d = sio.loadmat('ex5data1.mat')\n",
    "    return map(np.ravel, [d['X'], d['y'], d['Xval'], d['yval'], d['Xtest'], d['ytest']])"
   ]
  },
  {
   "cell_type": "code",
   "execution_count": 48,
   "metadata": {
    "collapsed": true,
    "pycharm": {
     "is_executing": false
    }
   },
   "outputs": [],
   "source": [
    "X, y, Xval, yval, Xtest, ytest = load_data()"
   ]
  },
  {
   "cell_type": "code",
   "execution_count": 49,
   "metadata": {
    "pycharm": {
     "is_executing": false
    }
   },
   "outputs": [
    {
     "data": {
      "text/plain": "<Figure size 504x504 with 1 Axes>",
      "image/png": "[encoded data removed]"
     },
     "metadata": {
      "needs_background": "light"
     },
     "output_type": "display_data"
    }
   ],
   "source": [
    "df = pd.DataFrame({'water_level':X, 'flow':y})\n",
    "\n",
    "sns.lmplot('water_level', 'flow', data=df, fit_reg=False, size=7)\n",
    "plt.show()"
   ]
  },
  {
   "cell_type": "code",
   "execution_count": 50,
   "metadata": {
    "collapsed": true,
    "pycharm": {
     "is_executing": false
    }
   },
   "outputs": [],
   "source": [
    "X, Xval, Xtest = [np.insert(x.reshape(x.shape[0], 1), 0, np.ones(x.shape[0]), axis=1) for x in (X, Xval, Xtest)]"
   ]
  },
  {
   "cell_type": "markdown",
   "metadata": {},
   "source": [
    "# 代价函数\n",
    "<img style=\"float: left;\" src=\"../img/linear_cost.png\">"
   ]
  },
  {
   "cell_type": "code",
   "execution_count": 51,
   "metadata": {
    "collapsed": true,
    "pycharm": {
     "is_executing": false
    }
   },
   "outputs": [],
   "source": [
    "def cost(theta, X, y):\n",
    "    \"\"\"\n",
    "    X: R(m*n), m records, n features\n",
    "    y: R(m)\n",
    "    theta : R(n), linear regression parameters\n",
    "    \"\"\"\n",
    "    m = X.shape[0]\n",
    "\n",
    "    inner = X @ theta - y  # R(m*1)\n",
    "    print(y.shape)\n",
    "    # 1*m @ m*1 = 1*1 in matrix multiplication\n",
    "    # but you know numpy didn't do transpose in 1d array, so here is just a\n",
    "    # vector inner product to itselves\n",
    "    square_sum = inner.T @ inner\n",
    "    cost = square_sum / (2 * m)\n",
    "\n",
    "    return cost"
   ]
  },
  {
   "cell_type": "code",
   "execution_count": 52,
   "metadata": {
    "pycharm": {
     "is_executing": false
    }
   },
   "outputs": [
    {
     "name": "stdout",
     "text": [
      "(12, 2)\n(12,)\n"
     ],
     "output_type": "stream"
    },
    {
     "data": {
      "text/plain": "303.9515255535976"
     },
     "metadata": {},
     "output_type": "execute_result",
     "execution_count": 52
    }
   ],
   "source": [
    "theta = np.ones(X.shape[1])\n",
    "print(X.shape)\n",
    "cost(theta, X, y)"
   ]
  },
  {
   "cell_type": "markdown",
   "metadata": {},
   "source": [
    "# 梯度\n",
    "<img style=\"float: left;\" src=\"../img/linear_gradient.png\">"
   ]
  },
  {
   "cell_type": "code",
   "execution_count": 53,
   "metadata": {
    "collapsed": true,
    "pycharm": {
     "is_executing": false
    }
   },
   "outputs": [],
   "source": [
    "def gradient(theta, X, y):\n",
    "    m = X.shape[0]\n",
    "\n",
    "    inner = X.T @ (X @ theta - y)  # (m,n).T @ (m, 1) -> (n, 1)\n",
    "\n",
    "    return inner / m"
   ]
  },
  {
   "cell_type": "code",
   "execution_count": 54,
   "metadata": {
    "pycharm": {
     "is_executing": false
    }
   },
   "outputs": [
    {
     "data": {
      "text/plain": "array([-15.30301567, 598.16741084])"
     },
     "metadata": {},
     "output_type": "execute_result",
     "execution_count": 54
    }
   ],
   "source": [
    "gradient(theta, X, y)"
   ]
  },
  {
   "cell_type": "markdown",
   "metadata": {},
   "source": [
    "# 正则化梯度\n",
    "<img style=\"float: left;\" src=\"../img/linear_reg_gradient.png\">"
   ]
  },
  {
   "cell_type": "code",
   "execution_count": 55,
   "metadata": {
    "collapsed": true,
    "pycharm": {
     "is_executing": false
    }
   },
   "outputs": [],
   "source": [
    "def regularized_gradient(theta, X, y, l=1):\n",
    "    m = X.shape[0]\n",
    "\n",
    "    regularized_term = theta.copy()  # same shape as theta\n",
    "    regularized_term[0] = 0  # don't regularize intercept theta\n",
    "\n",
    "    regularized_term = (l / m) * regularized_term\n",
    "\n",
    "    return gradient(theta, X, y) + regularized_term"
   ]
  },
  {
   "cell_type": "code",
   "execution_count": 56,
   "metadata": {
    "pycharm": {
     "is_executing": false
    }
   },
   "outputs": [
    {
     "data": {
      "text/plain": "array([-15.30301567, 598.25074417])"
     },
     "metadata": {},
     "output_type": "execute_result",
     "execution_count": 56
    }
   ],
   "source": [
    "regularized_gradient(theta, X, y)"
   ]
  },
  {
   "cell_type": "markdown",
   "metadata": {},
   "source": [
    "# 拟合数据\n",
    "> 正则化项 $\\lambda=0$"
   ]
  },
  {
   "cell_type": "code",
   "execution_count": 57,
   "metadata": {
    "collapsed": true,
    "pycharm": {
     "is_executing": false
    }
   },
   "outputs": [],
   "source": [
    "def linear_regression_np(X, y, l=1):\n",
    "    \"\"\"linear regression\n",
    "    args:\n",
    "        X: feature matrix, (m, n+1) # with incercept x0=1\n",
    "        y: target vector, (m, )\n",
    "        l: lambda constant for regularization\n",
    "\n",
    "    return: trained parameters\n",
    "    \"\"\"\n",
    "    # init theta\n",
    "    theta = np.ones(X.shape[1])\n",
    "\n",
    "    # train it\n",
    "    res = opt.minimize(fun=regularized_cost,\n",
    "                       x0=theta,\n",
    "                       args=(X, y, l),\n",
    "                       method='TNC',\n",
    "                       jac=regularized_gradient,\n",
    "                       options={'disp': True})\n",
    "    return res\n"
   ]
  },
  {
   "cell_type": "code",
   "execution_count": 58,
   "metadata": {
    "collapsed": true,
    "pycharm": {
     "is_executing": false
    }
   },
   "outputs": [],
   "source": [
    "def regularized_cost(theta, X, y, l=1):\n",
    "    m = X.shape[0]\n",
    "\n",
    "    regularized_term = (l / (2 * m)) * np.power(theta[1:], 2).sum()\n",
    "\n",
    "    return cost(theta, X, y) + regularized_term"
   ]
  },
  {
   "cell_type": "code",
   "execution_count": 59,
   "metadata": {
    "collapsed": true,
    "pycharm": {
     "is_executing": false
    }
   },
   "outputs": [
    {
     "name": "stdout",
     "text": [
      "(12,)\n(12,)\n(12,)\n(12,)\n(12,)\n(12,)\n(12,)\n(12,)\n(12,)\n(12,)\n[13.08790362  0.36777923]\n"
     ],
     "output_type": "stream"
    }
   ],
   "source": [
    "theta = np.ones(X.shape[0])\n",
    "\n",
    "final_theta = linear_regression_np(X, y, l=0).get('x')\n",
    "print(final_theta)"
   ]
  },
  {
   "cell_type": "code",
   "execution_count": 60,
   "metadata": {
    "pycharm": {
     "is_executing": false
    }
   },
   "outputs": [
    {
     "data": {
      "text/plain": "<Figure size 432x288 with 1 Axes>",
      "image/png": "[encoded data removed]"
     },
     "metadata": {
      "needs_background": "light"
     },
     "output_type": "display_data"
    }
   ],
   "source": [
    "b = final_theta[0] # intercept\n",
    "m = final_theta[1] # slope\n",
    "\n",
    "plt.scatter(X[:,1], y, label=\"Training data\")\n",
    "plt.plot(X[:, 1], X[:, 1]*m + b, label=\"Prediction\")\n",
    "plt.legend(loc=2)\n",
    "plt.show()"
   ]
  },
  {
   "cell_type": "code",
   "execution_count": 61,
   "metadata": {
    "collapsed": true,
    "pycharm": {
     "is_executing": false
    }
   },
   "outputs": [],
   "source": [
    "training_cost, cv_cost = [], []"
   ]
  },
  {
   "cell_type": "markdown",
   "metadata": {},
   "source": [
    "1.使用训练集的子集来拟合应模型\n",
    "\n",
    "2.在计算训练代价和交叉验证代价时，没有用正则化\n",
    "\n",
    "3.记住使用相同的训练集子集来计算训练代价"
   ]
  },
  {
   "cell_type": "code",
   "execution_count": 62,
   "metadata": {
    "collapsed": true,
    "pycharm": {
     "is_executing": false
    }
   },
   "outputs": [
    {
     "name": "stdout",
     "text": [
      "(1,)\n(1,)\n(1,)\n(1,)\n(1,)\n(21,)\n(2,)\n(2,)\n(2,)\n(2,)\n(2,)\n(2,)\n(2,)\n(2,)\n(2,)\n(21,)\n(3,)\n(3,)\n(3,)\n(3,)\n(3,)\n(3,)\n(3,)\n(3,)\n(3,)\n(3,)\n(3,)\n(21,)\n(4,)\n(4,)\n(4,)\n(4,)\n(4,)\n(4,)\n(4,)\n(4,)\n(4,)\n(4,)\n(4,)\n(21,)\n(5,)\n(5,)\n(5,)\n(5,)\n(5,)\n(5,)\n(5,)\n(5,)\n(5,)\n(5,)\n(5,)\n(21,)\n(6,)\n(6,)\n(6,)\n(6,)\n(6,)\n(6,)\n(6,)\n(6,)\n(6,)\n(6,)\n(6,)\n(21,)\n(7,)\n(7,)\n(7,)\n(7,)\n(7,)\n(7,)\n(7,)\n(7,)\n(7,)\n(7,)\n(7,)\n(21,)\n(8,)\n(8,)\n(8,)\n(8,)\n(8,)\n(8,)\n(8,)\n(8,)\n(8,)\n(8,)\n(8,)\n(21,)\n(9,)\n(9,)\n(9,)\n(9,)\n(9,)\n(9,)\n(9,)\n(9,)\n(9,)\n(9,)\n(9,)\n(21,)\n(10,)\n(10,)\n(10,)\n(10,)\n(10,)\n(10,)\n(10,)\n(10,)\n(10,)\n(10,)\n(10,)\n(10,)\n(21,)\n(11,)\n(11,)\n(11,)\n(11,)\n(11,)\n(11,)\n(11,)\n(11,)\n(11,)\n(11,)\n(11,)\n(21,)\n(12,)\n(12,)\n(12,)\n(12,)\n(12,)\n(12,)\n(12,)\n(12,)\n(12,)\n(12,)\n(12,)\n(21,)\n"
     ],
     "output_type": "stream"
    }
   ],
   "source": [
    "m = X.shape[0]\n",
    "for i in range(1, m+1):\n",
    "#     print('i={}'.format(i))\n",
    "    res = linear_regression_np(X[:i, :], y[:i], l=0)\n",
    "    \n",
    "    tc = regularized_cost(res.x, X[:i, :], y[:i], l=0)\n",
    "    cv = regularized_cost(res.x, Xval, yval, l=0)\n",
    "#     print('tc={}, cv={}'.format(tc, cv))\n",
    "    \n",
    "    training_cost.append(tc)\n",
    "    cv_cost.append(cv)"
   ]
  },
  {
   "cell_type": "code",
   "execution_count": 63,
   "metadata": {
    "pycharm": {
     "is_executing": false
    }
   },
   "outputs": [
    {
     "data": {
      "text/plain": "<Figure size 432x288 with 1 Axes>",
      "image/png": "[encoded data removed]"
     },
     "metadata": {
      "needs_background": "light"
     },
     "output_type": "display_data"
    }
   ],
   "source": [
    "plt.plot(np.arange(1, m+1), training_cost, label='training cost')\n",
    "plt.plot(np.arange(1, m+1), cv_cost, label='cv cost')\n",
    "plt.legend(loc=1)\n",
    "plt.show()"
   ]
  },
  {
   "cell_type": "markdown",
   "metadata": {},
   "source": [
    "这个模型拟合不太好, **欠拟合了**"
   ]
  },
  {
   "cell_type": "markdown",
   "metadata": {},
   "source": [
    "# 创建多项式特征"
   ]
  },
  {
   "cell_type": "code",
   "execution_count": 64,
   "metadata": {
    "collapsed": true,
    "pycharm": {
     "is_executing": false
    }
   },
   "outputs": [],
   "source": [
    "def prepare_poly_data(*args, power):\n",
    "    \"\"\"\n",
    "    args: keep feeding in X, Xval, or Xtest\n",
    "        will return in the same order\n",
    "    \"\"\"\n",
    "    def prepare(x):\n",
    "        # expand feature\n",
    "        df = poly_features(x, power=power)\n",
    "\n",
    "        # normalization\n",
    "        ndarr = normalize_feature(df).as_matrix()\n",
    "\n",
    "        # add intercept term\n",
    "        return np.insert(ndarr, 0, np.ones(ndarr.shape[0]), axis=1)\n",
    "\n",
    "    return [prepare(x) for x in args]"
   ]
  },
  {
   "cell_type": "code",
   "execution_count": 65,
   "metadata": {
    "collapsed": true,
    "pycharm": {
     "is_executing": false
    }
   },
   "outputs": [],
   "source": [
    "def poly_features(x, power, as_ndarray=False):\n",
    "    data = {'f{}'.format(i): np.power(x, i) for i in range(1, power + 1)}\n",
    "    df = pd.DataFrame(data)\n",
    "\n",
    "    return df.as_matrix() if as_ndarray else df\n"
   ]
  },
  {
   "cell_type": "code",
   "execution_count": 66,
   "metadata": {
    "collapsed": true,
    "pycharm": {
     "is_executing": false
    }
   },
   "outputs": [],
   "source": [
    "X, y, Xval, yval, Xtest, ytest = load_data()"
   ]
  },
  {
   "cell_type": "code",
   "execution_count": 67,
   "metadata": {
    "pycharm": {
     "is_executing": false
    }
   },
   "outputs": [
    {
     "data": {
      "text/plain": "           f1           f2             f3\n0  -15.936758   253.980260   -4047.621971\n1  -29.152979   849.896197  -24777.006175\n2   36.189549  1309.683430   47396.852168\n3   37.492187  1405.664111   52701.422173\n4  -48.058829  2309.651088 -110999.127750\n5   -8.941458    79.949670    -714.866612\n6   15.307793   234.328523    3587.052500\n7  -34.706266  1204.524887  -41804.560890\n8    1.389154     1.929750       2.680720\n9  -44.383760  1969.918139  -87432.373590\n10   7.013502    49.189211     344.988637\n11  22.762749   518.142738   11794.353058",
      "text/html": "<div>\n<style scoped>\n    .dataframe tbody tr th:only-of-type {\n        vertical-align: middle;\n    }\n\n    .dataframe tbody tr th {\n        vertical-align: top;\n    }\n\n    .dataframe thead th {\n        text-align: right;\n    }\n</style>\n<table border=\"1\" class=\"dataframe\">\n  <thead>\n    <tr style=\"text-align: right;\">\n      <th></th>\n      <th>f1</th>\n      <th>f2</th>\n      <th>f3</th>\n    </tr>\n  </thead>\n  <tbody>\n    <tr>\n      <th>0</th>\n      <td>-15.936758</td>\n      <td>253.980260</td>\n      <td>-4047.621971</td>\n    </tr>\n    <tr>\n      <th>1</th>\n      <td>-29.152979</td>\n      <td>849.896197</td>\n      <td>-24777.006175</td>\n    </tr>\n    <tr>\n      <th>2</th>\n      <td>36.189549</td>\n      <td>1309.683430</td>\n      <td>47396.852168</td>\n    </tr>\n    <tr>\n      <th>3</th>\n      <td>37.492187</td>\n      <td>1405.664111</td>\n      <td>52701.422173</td>\n    </tr>\n    <tr>\n      <th>4</th>\n      <td>-48.058829</td>\n      <td>2309.651088</td>\n      <td>-110999.127750</td>\n    </tr>\n    <tr>\n      <th>5</th>\n      <td>-8.941458</td>\n      <td>79.949670</td>\n      <td>-714.866612</td>\n    </tr>\n    <tr>\n      <th>6</th>\n      <td>15.307793</td>\n      <td>234.328523</td>\n      <td>3587.052500</td>\n    </tr>\n    <tr>\n      <th>7</th>\n      <td>-34.706266</td>\n      <td>1204.524887</td>\n      <td>-41804.560890</td>\n    </tr>\n    <tr>\n      <th>8</th>\n      <td>1.389154</td>\n      <td>1.929750</td>\n      <td>2.680720</td>\n    </tr>\n    <tr>\n      <th>9</th>\n      <td>-44.383760</td>\n      <td>1969.918139</td>\n      <td>-87432.373590</td>\n    </tr>\n    <tr>\n      <th>10</th>\n      <td>7.013502</td>\n      <td>49.189211</td>\n      <td>344.988637</td>\n    </tr>\n    <tr>\n      <th>11</th>\n      <td>22.762749</td>\n      <td>518.142738</td>\n      <td>11794.353058</td>\n    </tr>\n  </tbody>\n</table>\n</div>"
     },
     "metadata": {},
     "output_type": "execute_result",
     "execution_count": 67
    }
   ],
   "source": [
    "poly_features(X, power=3)"
   ]
  },
  {
   "cell_type": "markdown",
   "metadata": {},
   "source": [
    "# 准备多项式回归数据\n",
    "1. 扩展特征到 8阶,或者你需要的阶数\n",
    "2. 使用 **归一化** 来合并 $x^n$ \n",
    "3. don't forget intercept term"
   ]
  },
  {
   "cell_type": "code",
   "execution_count": 68,
   "metadata": {
    "collapsed": true,
    "pycharm": {
     "is_executing": false
    }
   },
   "outputs": [],
   "source": [
    "def normalize_feature(df):\n",
    "    \"\"\"Applies function along input axis(default 0) of DataFrame.\"\"\"\n",
    "    return df.apply(lambda column: (column - column.mean()) / column.std())"
   ]
  },
  {
   "cell_type": "code",
   "execution_count": 69,
   "metadata": {
    "pycharm": {
     "is_executing": false
    }
   },
   "outputs": [
    {
     "name": "stderr",
     "text": [
      "D:\\pycharm\\pro\\test\\venv\\lib\\site-packages\\ipykernel_launcher.py:11: FutureWarning: Method .as_matrix will be removed in a future version. Use .values instead.\n  # This is added back by InteractiveShellApp.init_path()\n"
     ],
     "output_type": "stream"
    },
    {
     "data": {
      "text/plain": "array([[ 1.00000000e+00, -3.62140776e-01, -7.55086688e-01,\n         1.82225876e-01, -7.06189908e-01,  3.06617917e-01,\n        -5.90877673e-01,  3.44515797e-01, -5.08481165e-01],\n       [ 1.00000000e+00, -8.03204845e-01,  1.25825266e-03,\n        -2.47936991e-01, -3.27023420e-01,  9.33963187e-02,\n        -4.35817606e-01,  2.55416116e-01, -4.48912493e-01],\n       [ 1.00000000e+00,  1.37746700e+00,  5.84826715e-01,\n         1.24976856e+00,  2.45311974e-01,  9.78359696e-01,\n        -1.21556976e-02,  7.56568484e-01, -1.70352114e-01]])"
     },
     "metadata": {},
     "output_type": "execute_result",
     "execution_count": 69
    }
   ],
   "source": [
    "X_poly, Xval_poly, Xtest_poly= prepare_poly_data(X, Xval, Xtest, power=8)\n",
    "X_poly[:3, :]"
   ]
  },
  {
   "cell_type": "markdown",
   "metadata": {},
   "source": [
    "# 画出学习曲线\n",
    "> 首先，我们没有使用正则化，所以 $\\lambda=0$"
   ]
  },
  {
   "cell_type": "code",
   "execution_count": 70,
   "metadata": {
    "collapsed": true,
    "pycharm": {
     "is_executing": false
    }
   },
   "outputs": [],
   "source": [
    "def plot_learning_curve(X, y, Xval, yval, l=0):\n",
    "    training_cost, cv_cost = [], []\n",
    "    m = X.shape[0]\n",
    "\n",
    "    for i in range(1, m + 1):\n",
    "        # regularization applies here for fitting parameters\n",
    "        res = linear_regression_np(X[:i, :], y[:i], l=l)\n",
    "\n",
    "        # remember, when you compute the cost here, you are computing\n",
    "        # non-regularized cost. Regularization is used to fit parameters only\n",
    "        tc = cost(res.x, X[:i, :], y[:i])\n",
    "        cv = cost(res.x, Xval, yval)\n",
    "\n",
    "        training_cost.append(tc)\n",
    "        cv_cost.append(cv)\n",
    "\n",
    "    plt.plot(np.arange(1, m + 1), training_cost, label='training cost')\n",
    "    plt.plot(np.arange(1, m + 1), cv_cost, label='cv cost')\n",
    "    plt.legend(loc=1)\n"
   ]
  },
  {
   "cell_type": "code",
   "execution_count": 71,
   "metadata": {
    "pycharm": {
     "is_executing": false
    }
   },
   "outputs": [
    {
     "name": "stdout",
     "text": [
      "(1,)\n(1,)\n(1,)\n(1,)\n(1,)\n(21,)\n(2,)\n(2,)\n(2,)\n(2,)\n(2,)\n(2,)\n(21,)\n(3,)\n(3,)\n(3,)\n(3,)\n(3,)\n(3,)\n(3,)\n(3,)\n(3,)\n(3,)\n(21,)\n(4,)\n(4,)\n(4,)\n(4,)\n(4,)\n(4,)\n(4,)\n(4,)\n(4,)\n(4,)\n(4,)\n(4,)\n(4,)\n(4,)\n(4,)\n(21,)\n(5,)\n(5,)\n(5,)\n(5,)\n(5,)\n(5,)\n(5,)\n(5,)\n(5,)\n(5,)\n(5,)\n(5,)\n(5,)\n(5,)\n(5,)\n(5,)\n(5,)\n(5,)\n(21,)\n(6,)\n(6,)\n(6,)\n(6,)\n(6,)\n(6,)\n(6,)\n(6,)\n(6,)\n(6,)\n(6,)\n(6,)\n(6,)\n(6,)\n(6,)\n(6,)\n(6,)\n(6,)\n(6,)\n(6,)\n(6,)\n(6,)\n(6,)\n(6,)\n(6,)\n(6,)\n(6,)\n(6,)\n(6,)\n(6,)\n(6,)\n(6,)\n(6,)\n(6,)\n(6,)\n(21,)\n(7,)\n(7,)\n(7,)\n(7,)\n(7,)\n(7,)\n(7,)\n(7,)\n(7,)\n(7,)\n(7,)\n(7,)\n(7,)\n(7,)\n(7,)\n(7,)\n(7,)\n(7,)\n(7,)\n(7,)\n(7,)\n(7,)\n(7,)\n(7,)\n(7,)\n(7,)\n(7,)\n(7,)\n(7,)\n(7,)\n(7,)\n(7,)\n(7,)\n(7,)\n(7,)\n(7,)\n(7,)\n(7,)\n(7,)\n(7,)\n(7,)\n(7,)\n(7,)\n(7,)\n(7,)\n(7,)\n(7,)\n(7,)\n(7,)\n(21,)\n(8,)\n(8,)\n(8,)\n(8,)\n(8,)\n(8,)\n(8,)\n(8,)\n(8,)\n(8,)\n(8,)\n(8,)\n(8,)\n(8,)\n(8,)\n(8,)\n(8,)\n(8,)\n(8,)\n(8,)\n(8,)\n(8,)\n(8,)\n(8,)\n(8,)\n(8,)\n(8,)\n(8,)\n(8,)\n(8,)\n(8,)\n(8,)\n(8,)\n(8,)\n(8,)\n(8,)\n(8,)\n(8,)\n(8,)\n(8,)\n(8,)\n(8,)\n(8,)\n(8,)\n(8,)\n(8,)\n(8,)\n(8,)\n(8,)\n(8,)\n(8,)\n(8,)\n(8,)\n(8,)\n(8,)\n(8,)\n(8,)\n(8,)\n(8,)\n(8,)\n(8,)\n(8,)\n(8,)\n(8,)\n(8,)\n(8,)\n(8,)\n(8,)\n(8,)\n(8,)\n(8,)\n(8,)\n(8,)\n(8,)\n(8,)\n(8,)\n(8,)\n(8,)\n(8,)\n(8,)\n(8,)\n(8,)\n(8,)\n(8,)\n(8,)\n(8,)\n(8,)\n(8,)\n(8,)\n(8,)\n(8,)\n(8,)\n(8,)\n(8,)\n(8,)\n(8,)\n(8,)\n(8,)\n(8,)\n(8,)\n(8,)\n(8,)\n(21,)\n(9,)\n(9,)\n(9,)\n(9,)\n(9,)\n(9,)\n(9,)\n(9,)\n(9,)\n(9,)\n(9,)\n(9,)\n(9,)\n(9,)\n(9,)\n(9,)\n(9,)\n(9,)\n(9,)\n(9,)\n(9,)\n(9,)\n(9,)\n(9,)\n(9,)\n(9,)\n(9,)\n(9,)\n(9,)\n(9,)\n(9,)\n(9,)\n(9,)\n(9,)\n(9,)\n(9,)\n(9,)\n(9,)\n(9,)\n(9,)\n(9,)\n(9,)\n(9,)\n(9,)\n(9,)\n(9,)\n(9,)\n(9,)\n(9,)\n(9,)\n(9,)\n(9,)\n(9,)\n(9,)\n(9,)\n(9,)\n(9,)\n(9,)\n(9,)\n(9,)\n(9,)\n(9,)\n(9,)\n(9,)\n(9,)\n(9,)\n(9,)\n(9,)\n(9,)\n(9,)\n(9,)\n(9,)\n(9,)\n(9,)\n(9,)\n(9,)\n(9,)\n(9,)\n(9,)\n(9,)\n(9,)\n(9,)\n(9,)\n(9,)\n(9,)\n(9,)\n(9,)\n(9,)\n(9,)\n(9,)\n(9,)\n(9,)\n(9,)\n(9,)\n(9,)\n(9,)\n(9,)\n(9,)\n(9,)\n(9,)\n(9,)\n(9,)\n(21,)\n(10,)\n(10,)\n(10,)\n(10,)\n(10,)\n(10,)\n(10,)\n(10,)\n(10,)\n(10,)\n(10,)\n(10,)\n(10,)\n(10,)\n(10,)\n(10,)\n(10,)\n(10,)\n(10,)\n(10,)\n(10,)\n(10,)\n(10,)\n(10,)\n(10,)\n(10,)\n(10,)\n(10,)\n(10,)\n(10,)\n(10,)\n(10,)\n(10,)\n(10,)\n(10,)\n(10,)\n(10,)\n(10,)\n(10,)\n(10,)\n(10,)\n(10,)\n(10,)\n(10,)\n(10,)\n(10,)\n(10,)\n(10,)",
      "\n(10,)\n(10,)\n(10,)\n(10,)\n(10,)\n(10,)\n(10,)\n(10,)\n(10,)\n(10,)\n(10,)\n(10,)\n(10,)\n(10,)\n(10,)\n(10,)\n(10,)\n(10,)\n(10,)\n(10,)\n(10,)\n(10,)\n(10,)\n(10,)\n(10,)\n(10,)\n(10,)\n(10,)\n(10,)\n(10,)\n(10,)\n(10,)\n(10,)\n(10,)\n(10,)\n(10,)\n(10,)\n(10,)\n(10,)\n(10,)\n(10,)\n(10,)\n(10,)\n(10,)\n(10,)\n(10,)\n(10,)\n(10,)\n(10,)\n(10,)\n(10,)\n(10,)\n(10,)\n(10,)\n(21,)\n(11,)\n(11,)\n(11,)\n(11,)\n(11,)\n(11,)\n(11,)\n(11,)\n(11,)\n(11,)\n(11,)\n(11,)\n(11,)\n(11,)\n(11,)\n(11,)\n(11,)\n(11,)\n(11,)\n(11,)\n(11,)\n(11,)\n(11,)\n(11,)\n(11,)\n(11,)\n(11,)\n(11,)\n(11,)\n(11,)\n(11,)\n(11,)\n(11,)\n(11,)\n(11,)\n(11,)\n(11,)\n(11,)\n(11,)\n(11,)\n(11,)\n(11,)\n(11,)\n(11,)\n(11,)\n(11,)\n(11,)\n(11,)\n(11,)\n(11,)\n(11,)\n(11,)\n(11,)\n(11,)\n(11,)\n(11,)\n(11,)\n(11,)\n(11,)\n(11,)\n(11,)\n(11,)\n(11,)\n(11,)\n(11,)\n(11,)\n(11,)\n(11,)\n(11,)\n(11,)\n(11,)\n(11,)\n(11,)\n(11,)\n(11,)\n(11,)\n(11,)\n(11,)\n(11,)\n(11,)\n(11,)\n(11,)\n(11,)\n(11,)\n(11,)\n(11,)\n(11,)\n(11,)\n(11,)\n(11,)\n(11,)\n(11,)\n(11,)\n(11,)\n(11,)\n(11,)\n(11,)\n(11,)\n(11,)\n(11,)\n(11,)\n(11,)\n(21,)\n(12,)\n(12,)\n(12,)\n(12,)\n(12,)\n(12,)\n(12,)\n(12,)\n(12,)\n(12,)\n(12,)\n(12,)\n(12,)\n(12,)\n(12,)\n(12,)\n(12,)\n(12,)\n(12,)\n(12,)\n(12,)\n(12,)\n(12,)\n(12,)\n(12,)\n(12,)\n(12,)\n(12,)\n(12,)\n(12,)\n(12,)\n(12,)\n(12,)\n(12,)\n(12,)\n(12,)\n(12,)\n(12,)\n(12,)\n(12,)\n(12,)\n(12,)\n(12,)\n(12,)\n(12,)\n(12,)\n(12,)\n(12,)\n(12,)\n(12,)\n(12,)\n(12,)\n(12,)\n(12,)\n(12,)\n(12,)\n(12,)\n(12,)\n(12,)\n(12,)\n(12,)\n(12,)\n(12,)\n(12,)\n(12,)\n(12,)\n(12,)\n(12,)\n(12,)\n(12,)\n(12,)\n(12,)\n(12,)\n(12,)\n(12,)\n(12,)\n(12,)\n(12,)\n(12,)\n(12,)\n(12,)\n(12,)\n(12,)\n(12,)\n(12,)\n(12,)\n(12,)\n(12,)\n(12,)\n(12,)\n(12,)\n(12,)\n(12,)\n(12,)\n(12,)\n(12,)\n(12,)\n(12,)\n(12,)\n(12,)\n(12,)\n(12,)\n(21,)\n"
     ],
     "output_type": "stream"
    },
    {
     "data": {
      "text/plain": "<Figure size 432x288 with 1 Axes>",
      "image/png": "[encoded data removed]"
     },
     "metadata": {
      "needs_background": "light"
     },
     "output_type": "display_data"
    }
   ],
   "source": [
    "plot_learning_curve(X_poly, y, Xval_poly, yval, l=0)\n",
    "plt.show()"
   ]
  },
  {
   "cell_type": "markdown",
   "metadata": {},
   "source": [
    "你可以看到训练的代价太低了，不真实. 这是 **过拟合**了"
   ]
  },
  {
   "cell_type": "markdown",
   "metadata": {},
   "source": [
    "# try $\\lambda=1$"
   ]
  },
  {
   "cell_type": "code",
   "execution_count": 72,
   "metadata": {
    "pycharm": {
     "is_executing": false
    }
   },
   "outputs": [
    {
     "name": "stdout",
     "text": [
      "(1,)\n(1,)\n(1,)\n(1,)\n(1,)\n(1,)\n(1,)\n(1,)\n(1,)\n(1,)\n(1,)\n(1,)\n(1,)\n(21,)\n(2,)\n(2,)\n(2,)\n(2,)\n(2,)\n(2,)\n(2,)\n(2,)\n(2,)\n(2,)\n(2,)\n(2,)\n(2,)\n(2,)\n(2,)\n(2,)\n(2,)\n(21,)\n(3,)\n(3,)\n(3,)\n(3,)\n(3,)\n(3,)\n(3,)\n(3,)\n(3,)\n(3,)\n(3,)\n(3,)\n(3,)\n(3,)\n(3,)\n(3,)\n(3,)\n(3,)\n(3,)\n(3,)\n(3,)\n(3,)\n(3,)\n(3,)\n(3,)\n(3,)\n(3,)\n(21,)\n(4,)\n(4,)\n(4,)\n(4,)\n(4,)\n(4,)\n(4,)\n(4,)\n(4,)\n(4,)\n(4,)\n(4,)\n(4,)\n(4,)\n(4,)\n(4,)\n(4,)\n(4,)\n(4,)\n(4,)\n(4,)\n(4,)\n(4,)\n(4,)\n(4,)\n(4,)\n(4,)\n(4,)\n(4,)\n(4,)\n(21,)\n(5,)\n(5,)\n(5,)\n(5,)\n(5,)\n(5,)\n(5,)\n(5,)\n(5,)\n(5,)\n(5,)\n(5,)\n(5,)\n(5,)\n(5,)\n(5,)\n(5,)\n(5,)\n(5,)\n(5,)\n(5,)\n(5,)\n(5,)\n(5,)\n(5,)\n(5,)\n(5,)\n(5,)\n(5,)\n(5,)\n(21,)\n(6,)\n(6,)\n(6,)\n(6,)\n(6,)\n(6,)\n(6,)\n(6,)\n(6,)\n(6,)\n(6,)\n(6,)\n(6,)\n(6,)\n(6,)\n(6,)\n(6,)\n(6,)\n(6,)\n(6,)\n(6,)\n(6,)\n(6,)\n(6,)\n(6,)\n(6,)\n(6,)\n(6,)\n(6,)\n(6,)\n(6,)\n(21,)\n(7,)\n(7,)\n(7,)\n(7,)\n(7,)\n(7,)\n(7,)\n(7,)\n(7,)\n(7,)\n(7,)\n(7,)\n(7,)\n(7,)\n(7,)\n(7,)\n(7,)\n(7,)\n(7,)\n(7,)\n(7,)\n(7,)\n(7,)\n(7,)\n(7,)\n(7,)\n(7,)\n(7,)\n(7,)\n(7,)\n(7,)\n(21,)\n(8,)\n(8,)\n(8,)\n(8,)\n(8,)\n(8,)\n(8,)\n(8,)\n(8,)\n(8,)\n(8,)\n(8,)\n(8,)\n(8,)\n(8,)\n(8,)\n(8,)\n(8,)\n(8,)\n(8,)\n(8,)\n(8,)\n(8,)\n(8,)\n(8,)\n(8,)\n(8,)\n(8,)\n(8,)\n(8,)\n(21,)\n(9,)\n(9,)\n(9,)\n(9,)\n(9,)\n(9,)\n(9,)\n(9,)\n(9,)\n(9,)\n(9,)\n(9,)\n(9,)\n(9,)\n(9,)\n(9,)\n(9,)\n(9,)\n(9,)\n(9,)\n(9,)\n(9,)\n(9,)\n(9,)\n(9,)\n(9,)\n(9,)\n(9,)\n(9,)\n(9,)\n(21,)\n(10,)\n(10,)\n(10,)\n(10,)\n(10,)\n(10,)\n(10,)\n(10,)\n(10,)\n(10,)\n(10,)\n(10,)\n(10,)\n(10,)\n(10,)\n(10,)\n(10,)\n(10,)\n(10,)\n(10,)\n(10,)\n(10,)\n(10,)\n(10,)\n(10,)\n(10,)\n(10,)\n(10,)\n(10,)\n(10,)\n(10,)\n(10,)\n(10,)\n(21,)\n(11,)\n(11,)\n(11,)\n(11,)\n(11,)\n(11,)\n(11,)\n(11,)\n(11,)\n(11,)\n(11,)\n(11,)\n(11,)\n(11,)\n(11,)\n(11,)\n(11,)\n(11,)\n(11,)\n(11,)\n(11,)\n(11,)\n(11,)\n(11,)\n(11,)\n(11,)\n(11,)\n(11,)\n(11,)\n(11,)\n(11,)\n(11,)\n(11,)\n(11,)\n(21,)\n(12,)\n(12,)\n(12,)\n(12,)\n(12,)\n(12,)\n(12,)\n(12,)\n(12,)\n(12,)\n(12,)\n(12,)\n(12,)\n(12,)\n(12,)\n(12,)\n(12,)\n(12,)\n(12,)\n(12,)\n(12,)\n(12,)\n(12,)\n(12,)\n(12,)\n(12,)\n(12,)\n(12,)\n(12,)\n(12,)\n(12,)\n(12,)\n(12,)\n(12,)\n(12,)\n(12,)\n(12,)\n(12,)\n(12,)\n(21,)\n"
     ],
     "output_type": "stream"
    },
    {
     "data": {
      "text/plain": "<Figure size 432x288 with 1 Axes>",
      "image/png": "[encoded data removed]"
     },
     "metadata": {
      "needs_background": "light"
     },
     "output_type": "display_data"
    }
   ],
   "source": [
    "plot_learning_curve(X_poly, y, Xval_poly, yval, l=1)\n",
    "plt.show()"
   ]
  },
  {
   "cell_type": "markdown",
   "metadata": {},
   "source": [
    "\n",
    "训练代价增加了些，不再是0了。\n",
    "也就是说我们减轻**过拟合**"
   ]
  },
  {
   "cell_type": "markdown",
   "metadata": {},
   "source": [
    "# try $\\lambda=100$"
   ]
  },
  {
   "cell_type": "code",
   "execution_count": 73,
   "metadata": {
    "pycharm": {
     "is_executing": false
    }
   },
   "outputs": [
    {
     "name": "stdout",
     "text": [
      "(1,)\n(1,)\n(1,)\n(1,)\n(1,)\n(1,)\n(1,)\n(1,)\n(1,)\n(1,)\n(21,)\n(2,)\n(2,)\n(2,)\n(2,)\n(2,)\n(2,)\n(2,)\n(2,)\n(2,)\n(2,)\n(2,)\n(2,)\n(2,)\n(21,)\n(3,)\n(3,)\n(3,)\n(3,)\n(3,)\n(3,)\n(3,)\n(3,)\n(3,)\n(3,)\n(3,)\n(3,)\n(3,)\n(3,)\n(3,)\n(3,)\n(3,)\n(3,)\n(3,)\n(3,)\n(3,)\n(3,)\n(3,)\n(3,)\n(3,)\n(21,)\n(4,)\n(4,)\n(4,)\n(4,)\n(4,)\n(4,)\n(4,)\n(4,)\n(4,)\n(4,)\n(4,)\n(4,)\n(4,)\n(4,)\n(4,)\n(21,)\n(5,)\n(5,)\n(5,)\n(5,)\n(5,)\n(5,)\n(5,)\n(5,)\n(5,)\n(5,)\n(5,)\n(5,)\n(5,)\n(5,)\n(5,)\n(5,)\n(21,)\n(6,)\n(6,)\n(6,)\n(6,)\n(6,)\n(6,)\n(6,)\n(6,)\n(6,)\n(6,)\n(6,)\n(6,)\n(6,)\n(6,)\n(6,)\n(6,)\n(21,)\n(7,)\n(7,)\n(7,)\n(7,)\n(7,)\n(7,)\n(7,)\n(7,)\n(7,)\n(7,)\n(7,)\n(7,)\n(7,)\n(7,)\n(7,)\n(7,)\n(21,)\n(8,)\n(8,)\n(8,)\n(8,)\n(8,)\n(8,)\n(8,)\n(8,)\n(8,)\n(8,)\n(8,)\n(8,)\n(8,)\n(8,)\n(8,)\n(8,)\n(21,)\n(9,)\n(9,)\n(9,)\n(9,)\n(9,)\n(9,)\n(9,)\n(9,)\n(9,)\n(9,)\n(9,)\n(9,)\n(9,)\n(9,)\n(9,)\n(9,)\n(21,)\n(10,)\n(10,)\n(10,)\n(10,)\n(10,)\n(10,)\n(10,)\n(10,)\n(10,)\n(10,)\n(10,)\n(10,)\n(10,)\n(10,)\n(10,)\n(10,)\n(21,)\n(11,)\n(11,)\n(11,)\n(11,)\n(11,)\n(11,)\n(11,)\n(11,)\n(11,)\n(11,)\n(11,)\n(11,)\n(11,)\n(11,)\n(11,)\n(11,)\n(21,)\n(12,)\n(12,)\n(12,)\n(12,)\n(12,)\n(12,)\n(12,)\n(12,)\n(12,)\n(12,)\n(12,)\n(12,)\n(12,)\n(12,)\n(12,)\n(12,)\n(21,)\n"
     ],
     "output_type": "stream"
    },
    {
     "data": {
      "text/plain": "<Figure size 432x288 with 1 Axes>",
      "image/png": "[encoded data removed]"
     },
     "metadata": {
      "needs_background": "light"
     },
     "output_type": "display_data"
    }
   ],
   "source": [
    "plot_learning_curve(X_poly, y, Xval_poly, yval, l=100)\n",
    "plt.show()"
   ]
  },
  {
   "cell_type": "markdown",
   "metadata": {},
   "source": [
    "太多正则化了.  \n",
    "变成 **欠拟合**状态"
   ]
  },
  {
   "cell_type": "markdown",
   "metadata": {},
   "source": [
    "# 找到最佳的 $\\lambda$"
   ]
  },
  {
   "cell_type": "code",
   "execution_count": 74,
   "metadata": {
    "collapsed": true,
    "pycharm": {
     "is_executing": false
    }
   },
   "outputs": [],
   "source": [
    "l_candidate = [0, 0.001, 0.003, 0.01, 0.03, 0.1, 0.3, 1, 3, 10]\n",
    "training_cost, cv_cost = [], []"
   ]
  },
  {
   "cell_type": "code",
   "execution_count": 75,
   "metadata": {
    "collapsed": true,
    "pycharm": {
     "is_executing": false
    }
   },
   "outputs": [
    {
     "name": "stdout",
     "text": [
      "(12,)\n(12,)\n(12,)\n(12,)\n(12,)\n(12,)\n(12,)\n(12,)\n(12,)\n(12,)\n(12,)\n(12,)\n(12,)\n(12,)\n(12,)\n(12,)\n(12,)\n(12,)\n(12,)\n(12,)\n(12,)\n(12,)\n(12,)\n(12,)\n(12,)\n(12,)\n(12,)\n(12,)\n(12,)\n(12,)\n(12,)\n(12,)\n(12,)\n(12,)\n(12,)\n(12,)\n(12,)\n(12,)\n(12,)\n(12,)\n(12,)\n(12,)\n(12,)\n(12,)\n(12,)\n(12,)\n(12,)\n(12,)\n(12,)\n(12,)\n(12,)\n(12,)\n(12,)\n(12,)\n(12,)\n(12,)\n(12,)\n(12,)\n(12,)\n(12,)\n(12,)\n(12,)\n(12,)\n(12,)\n(12,)\n(12,)\n(12,)\n(12,)\n(12,)\n(12,)\n(12,)\n(12,)\n(12,)\n(12,)\n(12,)\n(12,)\n(12,)\n(12,)\n(12,)\n(12,)\n(12,)\n(12,)\n(12,)\n(12,)\n(12,)\n(12,)\n(12,)\n(12,)\n(12,)\n(12,)\n(12,)\n(12,)\n(12,)\n(12,)\n(12,)\n(12,)\n(12,)\n(12,)\n(12,)\n(12,)\n(12,)\n(12,)\n(21,)\n(12,)\n(12,)\n(12,)\n(12,)\n(12,)\n(12,)\n(12,)\n(12,)\n(12,)\n(12,)\n(12,)\n(12,)\n(12,)\n(12,)\n(12,)\n(12,)\n(12,)\n(12,)\n(12,)\n(12,)\n(12,)\n(12,)\n(12,)\n(12,)\n(12,)\n(12,)\n(12,)\n(12,)\n(12,)\n(12,)\n(12,)\n(12,)\n(12,)\n(12,)\n(12,)\n(12,)\n(12,)\n(12,)\n(12,)\n(12,)\n(12,)\n(12,)\n(12,)\n(12,)\n(12,)\n(12,)\n(12,)\n(12,)\n(12,)\n(12,)\n(12,)\n(12,)\n(12,)\n(12,)\n(12,)\n(12,)\n(12,)\n(12,)\n(12,)\n(12,)\n(12,)\n(12,)\n(12,)\n(12,)\n(12,)\n(12,)\n(12,)\n(12,)\n(12,)\n(12,)\n(12,)\n(12,)\n(12,)\n(12,)\n(12,)\n(12,)\n(12,)\n(12,)\n(12,)\n(12,)\n(12,)\n(12,)\n(12,)\n(12,)\n(12,)\n(12,)\n(12,)\n(12,)\n(12,)\n(12,)\n(12,)\n(12,)\n(12,)\n(12,)\n(12,)\n(12,)\n(12,)\n(12,)\n(12,)\n(12,)\n(12,)\n(12,)\n(21,)\n(12,)\n(12,)\n(12,)\n(12,)\n(12,)\n(12,)\n(12,)\n(12,)\n(12,)\n(12,)\n(12,)\n(12,)\n(12,)\n(12,)\n(12,)\n(12,)\n(12,)\n(12,)\n(12,)\n(12,)\n(12,)\n(12,)\n(12,)\n(12,)\n(12,)\n(12,)\n(12,)\n(12,)\n(12,)\n(12,)\n(12,)\n(12,)\n(12,)\n(12,)\n(12,)\n(12,)\n(12,)\n(12,)\n(12,)\n(12,)\n(12,)\n(12,)\n(12,)\n(12,)\n(12,)\n(12,)\n(12,)\n(12,)\n(12,)\n(12,)\n(12,)\n(12,)\n(12,)\n(12,)\n(12,)\n(12,)\n(12,)\n(12,)\n(12,)\n(12,)\n(12,)\n(12,)\n(12,)\n(12,)\n(12,)\n(12,)\n(12,)\n(12,)\n(12,)\n(12,)\n(12,)\n(12,)\n(12,)\n(12,)\n(12,)\n(12,)\n(12,)\n(12,)\n(12,)\n(12,)\n(12,)\n(12,)\n(12,)\n(12,)\n(12,)\n(12,)\n(12,)\n(12,)\n(12,)\n(12,)\n(12,)\n(12,)\n(12,)\n(12,)\n(12,)\n(12,)\n(12,)\n(12,)\n(12,)\n(12,)\n(12,)\n(12,)\n(21,)\n(12,)\n(12,)\n(12,)\n(12,)\n(12,)\n(12,)\n(12,)\n(12,)\n(12,)\n(12,)\n(12,)\n(12,)\n(12,)\n(12,)\n(12,)\n(12,)\n(12,)\n(12,)\n(12,)\n(12,)\n(12,)\n(12,)\n(12,)\n(12,)\n(12,)\n(12,)\n(12,)\n(12,)\n(12,)\n(12,)\n(12,)\n(12,)\n(12,)\n(12,)\n(12,)\n(12,)\n(12,)\n(12,)\n(12,)\n(12,)\n(12,)\n(12,)\n(12,)\n(12,)\n(12,)\n(12,)\n(12,)\n(12,)\n(12,)\n(12,)\n(12,)\n(12,)\n(12,)\n(12,)\n(12,)\n(12,)\n(12,)\n(12,)\n(12,)\n(12,)\n(12,)\n(12,)\n(12,)\n(12,)\n(12,)\n(12,)\n(12,)\n(12,)\n(12,)\n(12,)\n(12,)\n(12,)\n(12,)\n(12,)\n(12,)\n(12,)\n(12,)\n(12,)\n(12,)\n(12,)\n(12,)\n(12,)\n(12,)\n(12,)\n(12,)\n(12,)\n(12,)\n(12,)\n(12,)\n(12,)\n(12,)\n(12,)\n(12,)\n(12,)\n(12,)\n(21,)\n(12,)\n(12,)\n(12,)\n(12,)\n(12,)\n(12,)\n(12,)\n(12,)\n(12,)\n(12,)\n(12,)\n(12,)\n(12,)\n(12,)\n(12,)\n(12,)\n(12,)\n(12,)\n(12,)\n(12,)\n(12,)\n(12,)\n(12,)\n(12,)\n(12,)\n(12,)\n(12,)\n(12,)\n(12,)\n(12,)\n(12,)\n(12,)\n(12,)\n(12,)\n(12,)\n(12,)\n(12,)\n(12,)\n(12,)\n(12,)\n(12,)\n(12,)\n(12,)\n(12,)\n(12,)\n(12,)\n(12,)\n(12,)\n(12,)\n(12,)\n(12,)\n(12,)\n(12,)\n(12,)\n(12,)\n(12,)\n(12,)\n(12,)\n(12,)\n(12,)\n(21,)\n(12,)\n(12,)\n(12,)\n(12,)\n(12,)\n(12,)\n(12,)\n(12,)\n(12,)\n(12,)\n(12,)\n(12,)\n(12,)\n(12,)\n(12,)\n(12,)\n(12,)\n(12,)\n(12,)\n(12,)\n(12,)\n(12,)\n(12,)\n(12,)\n(12,)\n(12,)\n(12,)\n(12,)\n(12,)\n(12,)\n(12,)\n(12,)\n(12,)\n(12,)\n(12,)\n(12,)\n(12,)\n(12,)\n(12,)\n(12,)\n(12,)\n(12,)\n(12,)\n(12,)\n(12,)\n(12,)\n(12,)\n(21,)\n(12,)\n(12,)\n(12,)\n(12,)\n(12,)\n(12,)\n(12,)\n(12,)\n(12,)\n(12,)\n(12,)\n(12,)\n(12,)\n(12,)\n(12,)\n(12,)\n(12,)\n(12,)\n(12,)\n(12,)\n(12,)\n(12,)\n(12,)\n(12,)\n(12,)\n(12,)\n(12,)\n(12,)\n(12,)\n(12,)\n(12,)\n(12,)\n(12,)\n(12,)\n(12,)\n(12,)\n(12,)\n(12,)\n(12,)\n(12,)\n(21,)\n(12,)\n(12,)\n(12,)\n(12,)\n(12,)\n(12,)\n(12,)\n(12,)\n(12,)\n(12,)\n(12,)\n(12,)\n(12,)\n(12,)\n(12,)\n(12,)\n(12,)\n(12,)\n(12,)\n(12,)\n(12,)\n(12,)\n(12,)\n(12,)\n(12,)\n(12,)\n(12,)\n(12,)\n(12,)\n(12,)\n(12,)\n(12,)\n(12,)\n(12,)\n(12,)\n(12,)\n(12,)\n(12,)\n(12,)\n(21,)\n(12,)\n(12,)\n(12,)\n(12,)\n(12,)\n(12,)\n(12,)\n(12,)\n(12,)\n(12,)\n(12,)\n(12,)\n(12,)\n(12,)\n(12,)\n(12,)\n(12,)\n(12,)\n(12,)\n(12,)\n(12,)\n(12,)\n(12,)\n(12,)\n(12,)\n(12,)\n(12,)\n(12,)\n(21,)\n(12,)\n(12,)\n(12,)\n(12,)\n(12,)\n(12,)\n(12,)\n(12,)\n(12,)\n(12,)\n(12,)\n(12,)\n(12,)\n(12,)\n(12,)\n(12,)\n(12,)\n(21,)\n"
     ],
     "output_type": "stream"
    }
   ],
   "source": [
    "for l in l_candidate:\n",
    "    res = linear_regression_np(X_poly, y, l)\n",
    "    \n",
    "    tc = cost(res.x, X_poly, y)\n",
    "    cv = cost(res.x, Xval_poly, yval)\n",
    "    \n",
    "    training_cost.append(tc)\n",
    "    cv_cost.append(cv)"
   ]
  },
  {
   "cell_type": "code",
   "execution_count": 76,
   "metadata": {
    "pycharm": {
     "is_executing": false
    }
   },
   "outputs": [
    {
     "data": {
      "text/plain": "<Figure size 432x288 with 1 Axes>",
      "image/png": "[encoded data removed]"
     },
     "metadata": {
      "needs_background": "light"
     },
     "output_type": "display_data"
    }
   ],
   "source": [
    "plt.plot(l_candidate, training_cost, label='training')\n",
    "plt.plot(l_candidate, cv_cost, label='cross validation')\n",
    "plt.legend(loc=2)\n",
    "\n",
    "plt.xlabel('lambda')\n",
    "\n",
    "plt.ylabel('cost')\n",
    "plt.show()"
   ]
  },
  {
   "cell_type": "code",
   "execution_count": 77,
   "metadata": {
    "pycharm": {
     "is_executing": false
    }
   },
   "outputs": [
    {
     "data": {
      "text/plain": "1"
     },
     "metadata": {},
     "output_type": "execute_result",
     "execution_count": 77
    }
   ],
   "source": [
    "# best cv I got from all those candidates\n",
    "l_candidate[np.argmin(cv_cost)]"
   ]
  },
  {
   "cell_type": "code",
   "execution_count": 78,
   "metadata": {
    "pycharm": {
     "is_executing": false
    }
   },
   "outputs": [
    {
     "name": "stdout",
     "text": [
      "(12,)\n(12,)\n(12,)\n(12,)\n(12,)\n(12,)\n(12,)\n(12,)\n(12,)\n(12,)\n(12,)\n(12,)\n(12,)\n(12,)\n(12,)\n(12,)\n(12,)\n(12,)\n(12,)\n(12,)\n(12,)\n(12,)\n(12,)\n(12,)\n(12,)\n(12,)\n(12,)\n(12,)\n(12,)\n(12,)\n(12,)\n(12,)\n(12,)\n(12,)\n(12,)\n(12,)\n(12,)\n(12,)\n(12,)\n(12,)\n(12,)\n(12,)\n(12,)\n(12,)\n(12,)\n(12,)\n(12,)\n(12,)\n(12,)\n(12,)\n(12,)\n(12,)\n(12,)\n(12,)\n(12,)\n(12,)\n(12,)\n(12,)\n(12,)\n(12,)\n(12,)\n(12,)\n(12,)\n(12,)\n(12,)\n(12,)\n(12,)\n(12,)\n(12,)\n(12,)\n(12,)\n(12,)\n(12,)\n(12,)\n(12,)\n(12,)\n(12,)\n(12,)\n(12,)\n(12,)\n(12,)\n(12,)\n(12,)\n(12,)\n(12,)\n(12,)\n(12,)\n(12,)\n(12,)\n(12,)\n(12,)\n(12,)\n(12,)\n(12,)\n(12,)\n(12,)\n(12,)\n(12,)\n(12,)\n(12,)\n(12,)\n(21,)\ntest cost(l=0) = 10.055426362410126\n(12,)\n(12,)\n(12,)\n(12,)\n(12,)\n(12,)\n(12,)\n(12,)\n(12,)\n(12,)\n(12,)\n(12,)\n(12,)\n(12,)\n(12,)\n(12,)\n(12,)\n(12,)\n(12,)\n(12,)\n(12,)\n(12,)\n(12,)\n(12,)\n(12,)\n(12,)\n(12,)\n(12,)\n(12,)\n(12,)\n(12,)\n(12,)\n(12,)\n(12,)\n(12,)\n(12,)\n(12,)\n(12,)\n(12,)\n(12,)\n(12,)\n(12,)\n(12,)\n(12,)\n(12,)\n(12,)\n(12,)\n(12,)\n(12,)\n(12,)\n(12,)\n(12,)\n(12,)\n(12,)\n(12,)\n(12,)\n(12,)\n(12,)\n(12,)\n(12,)\n(12,)\n(12,)\n(12,)\n(12,)\n(12,)\n(12,)\n(12,)\n(12,)\n(12,)\n(12,)\n(12,)\n(12,)\n(12,)\n(12,)\n(12,)\n(12,)\n(12,)\n(12,)\n(12,)\n(12,)\n(12,)\n(12,)\n(12,)\n(12,)\n(12,)\n(12,)\n(12,)\n(12,)\n(12,)\n(12,)\n(12,)\n(12,)\n(12,)\n(12,)\n(12,)\n(12,)\n(12,)\n(12,)\n(12,)\n(12,)\n(12,)\n(21,)\ntest cost(l=0.001) = 11.001927632262907\n(12,)\n(12,)\n(12,)\n(12,)\n(12,)\n(12,)\n(12,)\n(12,)\n(12,)\n(12,)\n(12,)\n(12,)\n(12,)\n(12,)\n(12,)\n(12,)\n(12,)\n(12,)\n(12,)\n(12,)\n(12,)\n(12,)\n(12,)\n(12,)\n(12,)\n(12,)\n(12,)\n(12,)\n(12,)\n(12,)\n(12,)\n(12,)\n(12,)\n(12,)\n(12,)\n(12,)\n(12,)\n(12,)\n(12,)\n(12,)\n(12,)\n(12,)\n(12,)\n(12,)\n(12,)\n(12,)\n(12,)\n(12,)\n(12,)\n(12,)\n(12,)\n(12,)\n(12,)\n(12,)\n(12,)\n(12,)\n(12,)\n(12,)\n(12,)\n(12,)\n(12,)\n(12,)\n(12,)\n(12,)\n(12,)\n(12,)\n(12,)\n(12,)\n(12,)\n(12,)\n(12,)\n(12,)\n(12,)\n(12,)\n(12,)\n(12,)\n(12,)\n(12,)\n(12,)\n(12,)\n(12,)\n(12,)\n(12,)\n(12,)\n(12,)\n(12,)\n(12,)\n(12,)\n(12,)\n(12,)\n(12,)\n(12,)\n(12,)\n(12,)\n(12,)\n(12,)\n(12,)\n(12,)\n(12,)\n(12,)\n(12,)\n(21,)\ntest cost(l=0.003) = 11.26474655167747\n(12,)\n(12,)\n(12,)\n(12,)\n(12,)\n(12,)\n(12,)\n(12,)\n(12,)\n(12,)\n(12,)\n(12,)\n(12,)\n(12,)\n(12,)\n(12,)\n(12,)\n(12,)\n(12,)\n(12,)\n(12,)\n(12,)\n(12,)\n(12,)\n(12,)\n(12,)\n(12,)\n(12,)\n(12,)\n(12,)\n(12,)\n(12,)\n(12,)\n(12,)\n(12,)\n(12,)\n(12,)\n(12,)\n(12,)\n(12,)\n(12,)\n(12,)\n(12,)\n(12,)\n(12,)\n(12,)\n(12,)\n(12,)\n(12,)\n(12,)\n(12,)\n(12,)\n(12,)\n(12,)\n(12,)\n(12,)\n(12,)\n(12,)\n(12,)\n(12,)\n(12,)\n(12,)\n(12,)\n(12,)\n(12,)\n(12,)\n(12,)\n(12,)\n(12,)\n(12,)\n(12,)\n(12,)\n(12,)\n(12,)\n(12,)\n(12,)\n(12,)\n(12,)\n(12,)\n(12,)\n(12,)\n(12,)\n(12,)\n(12,)\n(12,)\n(12,)\n(12,)\n(12,)\n(12,)\n(12,)\n(12,)\n(12,)\n(12,)\n(12,)\n(21,)\ntest cost(l=0.01) = 10.880780731411715\n(12,)\n(12,)\n(12,)\n(12,)\n(12,)\n(12,)\n(12,)\n(12,)\n(12,)\n(12,)\n(12,)\n(12,)\n(12,)\n(12,)\n(12,)\n(12,)\n(12,)\n(12,)\n(12,)\n(12,)\n(12,)\n(12,)\n(12,)\n(12,)\n(12,)\n(12,)",
      "\n(12,)\n(12,)\n(12,)\n(12,)\n(12,)\n(12,)\n(12,)\n(12,)\n(12,)\n(12,)\n(12,)\n(12,)\n(12,)\n(12,)\n(12,)\n(12,)\n(12,)\n(12,)\n(12,)\n(12,)\n(12,)\n(12,)\n(12,)\n(12,)\n(12,)\n(12,)\n(12,)\n(12,)\n(12,)\n(12,)\n(12,)\n(12,)\n(12,)\n(21,)\ntest cost(l=0.03) = 10.022100517865269\n(12,)\n(12,)\n(12,)\n(12,)\n(12,)\n(12,)\n(12,)\n(12,)\n(12,)\n(12,)\n(12,)\n(12,)\n(12,)\n(12,)\n(12,)\n(12,)\n(12,)\n(12,)\n(12,)\n(12,)\n(12,)\n(12,)\n(12,)\n(12,)\n(12,)\n(12,)\n(12,)\n(12,)\n(12,)\n(12,)\n(12,)\n(12,)\n(12,)\n(12,)\n(12,)\n(12,)\n(12,)\n(12,)\n(12,)\n(12,)\n(12,)\n(12,)\n(12,)\n(12,)\n(12,)\n(12,)\n(21,)\ntest cost(l=0.1) = 8.63190793331871\n(12,)\n(12,)\n(12,)\n(12,)\n(12,)\n(12,)\n(12,)\n(12,)\n(12,)\n(12,)\n(12,)\n(12,)\n(12,)\n(12,)\n(12,)\n(12,)\n(12,)\n(12,)\n(12,)\n(12,)\n(12,)\n(12,)\n(12,)\n(12,)\n(12,)\n(12,)\n(12,)\n(12,)\n(12,)\n(12,)\n(12,)\n(12,)\n(12,)\n(12,)\n(12,)\n(12,)\n(12,)\n(12,)\n(12,)\n(21,)\ntest cost(l=0.3) = 7.3366077892272585\n(12,)\n(12,)\n(12,)\n(12,)\n(12,)\n(12,)\n(12,)\n(12,)\n(12,)\n(12,)\n(12,)\n(12,)\n(12,)\n(12,)\n(12,)\n(12,)\n(12,)\n(12,)\n(12,)\n(12,)\n(12,)\n(12,)\n(12,)\n(12,)\n(12,)\n(12,)\n(12,)\n(12,)\n(12,)\n(12,)\n(12,)\n(12,)\n(12,)\n(12,)\n(12,)\n(12,)\n(12,)\n(12,)\n(21,)\ntest cost(l=1) = 7.466283751156784\n(12,)\n(12,)\n(12,)\n(12,)\n(12,)\n(12,)\n(12,)\n(12,)\n(12,)\n(12,)\n(12,)\n(12,)\n(12,)\n(12,)\n(12,)\n(12,)\n(12,)\n(12,)\n(12,)\n(12,)\n(12,)\n(12,)\n(12,)\n(12,)\n(12,)\n(12,)\n(12,)\n(21,)\ntest cost(l=3) = 11.643941860536106\n(12,)\n(12,)\n(12,)\n(12,)\n(12,)\n(12,)\n(12,)\n(12,)\n(12,)\n(12,)\n(12,)\n(12,)\n(12,)\n(12,)\n(12,)\n(12,)\n(21,)\ntest cost(l=10) = 27.715080254176254\n"
     ],
     "output_type": "stream"
    }
   ],
   "source": [
    "# use test data to compute the cost\n",
    "for l in l_candidate:\n",
    "    theta = linear_regression_np(X_poly, y, l).x\n",
    "    print('test cost(l={}) = {}'.format(l, cost(theta, Xtest_poly, ytest)))"
   ]
  },
  {
   "cell_type": "markdown",
   "metadata": {},
   "source": [
    "调参后， $\\lambda = 0.3$ 是最优选择，这个时候测试代价最小"
   ]
  },
  {
   "cell_type": "code",
   "execution_count": 78,
   "metadata": {
    "collapsed": true,
    "pycharm": {
     "is_executing": false
    }
   },
   "outputs": [],
   "source": []
  }
 ],
 "metadata": {
  "anaconda-cloud": {},
  "kernelspec": {
   "display_name": "Python 3",
   "language": "python",
   "name": "python3"
  },
  "language_info": {
   "codemirror_mode": {
    "name": "ipython",
    "version": 3
   },
   "file_extension": ".py",
   "mimetype": "text/x-python",
   "name": "python",
   "nbconvert_exporter": "python",
   "pygments_lexer": "ipython3",
   "version": "3.6.2"
  },
  "pycharm": {
   "stem_cell": {
    "cell_type": "raw",
    "source": [],
    "metadata": {
     "collapsed": false
    }
   }
  }
 },
 "nbformat": 4,
 "nbformat_minor": 1
}