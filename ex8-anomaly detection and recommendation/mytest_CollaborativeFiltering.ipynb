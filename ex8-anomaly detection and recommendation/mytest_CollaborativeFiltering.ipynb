{
 "cells": [
  {
   "cell_type": "code",
   "execution_count": 521,
   "metadata": {
    "collapsed": true,
    "pycharm": {
     "is_executing": false
    }
   },
   "outputs": [],
   "source": [
    "import numpy as np\n",
    "import matplotlib.pyplot as plt\n",
    "import scipy.io as sio\n",
    "import scipy.optimize as opt"
   ]
  },
  {
   "cell_type": "markdown",
   "source": [
    "加载数据"
   ],
   "metadata": {
    "collapsed": false,
    "pycharm": {
     "name": "#%% md\n"
    }
   }
  },
  {
   "cell_type": "code",
   "execution_count": 522,
   "outputs": [],
   "source": [
    "path = 'data/ex8_movies.mat'\n",
    "data = sio.loadmat(path)\n",
    "Y = data['Y']\n",
    "R = data['R']\n",
    "\n",
    "path2 = 'data/ex8_movieParams.mat'\n",
    "data2 = sio.loadmat(path2)\n",
    "X = data2['X']\n",
    "theta = data2['Theta']\n",
    "\n",
    "movie_list = {}\n",
    "with open('data/movie_ids.txt', encoding='gbk') as f:\n",
    "    for line in f:\n",
    "        #这一步把一个字段的三个项目分离出来\n",
    "        tokens = line.split(' ')\n",
    "        #这步去掉每个字段后面的\\n\n",
    "        tokens[-1] = tokens[-1][:-1]\n",
    "        movie_list[int(tokens[0]) - 1] = ' '.join(tokens[1:])\n"
   ],
   "metadata": {
    "collapsed": false,
    "pycharm": {
     "name": "#%%\n",
     "is_executing": false
    }
   }
  },
  {
   "cell_type": "code",
   "execution_count": 523,
   "outputs": [
    {
     "name": "stdout",
     "text": [
      "Average rating for movie 1 (Toy Story):3.8783185840707963\n"
     ],
     "output_type": "stream"
    },
    {
     "data": {
      "text/plain": "<Figure size 864x576 with 1 Axes>",
      "image/png": "[encoded data removed]"
     },
     "metadata": {
      "needs_background": "light"
     },
     "output_type": "display_data"
    }
   ],
   "source": [
    "movie1_rated = np.where(R[0, :] == 1)\n",
    "average = np.mean(Y[0, movie1_rated])\n",
    "print('Average rating for movie 1 (Toy Story):' + str(average))\n",
    "\n",
    "fig, ax = plt.subplots(figsize=(12,8))\n",
    "ax.imshow(Y)\n",
    "ax.set_xlabel('Users')\n",
    "ax.set_ylabel('Movies')\n",
    "plt.show()"
   ],
   "metadata": {
    "collapsed": false,
    "pycharm": {
     "name": "#%%\n",
     "is_executing": false
    }
   }
  },
  {
   "cell_type": "markdown",
   "source": [
    "编写CostFunction函数\n",
    "编写压缩和解压向量的函数"
   ],
   "metadata": {
    "collapsed": false,
    "pycharm": {
     "name": "#%% md\n"
    }
   }
  },
  {
   "cell_type": "code",
   "execution_count": 524,
   "outputs": [],
   "source": [
    "def serialize(a, b):\n",
    "    return np.concatenate((np.ravel(a), np.ravel(b)))\n",
    "\n",
    "def deserialize(num_users, num_movies, num_features, seq):\n",
    "\n",
    "    return seq[:num_movies * num_features].reshape(num_movies, num_features),\\\n",
    "           seq[num_movies * num_features:].reshape(num_users, num_features)\n",
    "\n",
    "def cost(Theta, Y, R, lamda, num_users, num_movies, num_features):\n",
    "    X, theta = deserialize(num_users, num_movies, num_features, Theta)\n",
    "    \n",
    "    first = 0.5 * np.sum(((X @ theta.T - Y ) * R) **2)\n",
    "    print(np.sum(X ** 2))\n",
    "    second = lamda * (np.sum(theta ** 2) + np.sum(X ** 2)) / 2\n",
    "    return first + second\n",
    "\n",
    "#测试函数功能\n",
    "# num_users = 4\n",
    "# num_movies = 5\n",
    "# num_features = 3\n",
    "# X = X[0:num_movies, 0:num_features]\n",
    "# theta = theta[0:num_users, 0:num_features]\n",
    "# Theta = serialize(X, theta)\n",
    "# Y = Y[0:num_movies, 0:num_users]\n",
    "# R = R[0:num_movies, 0:num_users]\n",
    "# J = cost(Theta, Y, R, 1.5, num_users, num_movies, num_features)\n",
    "# print(J)"
   ],
   "metadata": {
    "collapsed": false,
    "pycharm": {
     "name": "#%%\n",
     "is_executing": false
    }
   }
  },
  {
   "cell_type": "markdown",
   "source": [
    "编写gradient函数\n",
    "编写测试gradient正确与否的gradientchecking函数"
   ],
   "metadata": {
    "collapsed": false,
    "pycharm": {
     "name": "#%% md\n"
    }
   }
  },
  {
   "cell_type": "code",
   "execution_count": 525,
   "outputs": [],
   "source": [
    "def gradient(Theta, Y, R, lamda, num_users, num_movies, num_features):\n",
    "    X, theta = deserialize(num_users, num_movies, num_features, Theta)\n",
    "    hah = ((X @ theta.T - Y) * R).T\n",
    "    X_grad = ((X @ theta.T - Y) * R) @ theta + lamda * X\n",
    "    theta_grad = ((X @ theta.T - Y) * R).T @ X + lamda * theta\n",
    "    grad = serialize(X_grad, theta_grad)\n",
    "    return grad\n",
    "\n",
    "def GradientChecking(Theta, Y, R, lamda, num_users, num_movies, num_features):\n",
    "    grad = gradient(Theta, Y, R, lamda, num_users, num_movies, num_features)\n",
    "    \n",
    "    numgrid = np.zeros(len(Theta))\n",
    "    perturb = np.zeros(len(Theta))\n",
    "    epsilon = 1e-4\n",
    "    for p in range(len(Theta)):\n",
    "        perturb[p] = epsilon\n",
    "        loss1 = cost(Theta + perturb, Y, R, lamda, num_users, num_movies, num_features)\n",
    "        loss2 = cost(Theta - perturb, Y, R, lamda, num_users, num_movies, num_features)\n",
    "        numgrid[p] = (loss1 - loss2) / (2*epsilon)\n",
    "        perturb[p] = 0\n",
    "    diff = np.linalg.norm(numgrid-grad) / np.linalg.norm(numgrid+grad);\n",
    "    print(grad)\n",
    "    print(numgrid)\n",
    "    print(diff)\n",
    "    \n",
    "#编写检验gradient和checkgradient函数\n",
    "# X_test = np.random.random((4,3))\n",
    "# theta_test = np.random.random((5,3))\n",
    "# Theta_test = serialize(X_test, theta_test)\n",
    "# \n",
    "# X_t = np.random.random((4,3))\n",
    "# theta_t = np.random.random((5,3))\n",
    "# Y_test = X_t @ theta_t.T\n",
    "# Y_test[np.where(np.random.random(Y_test.shape) > 0.5)]  = 0\n",
    "# R_test = np.zeros(Y_test.shape)\n",
    "# R_test[np.where(Y_test != 0)] = 1\n",
    "# \n",
    "# num_users = theta_t.shape[0]\n",
    "# num_movies = X_t.shape[0]\n",
    "# num_features = X_t.shape[1]\n",
    "# \n",
    "# GradientChecking(Theta_test, Y_test, R_test, 1.5, num_users, num_movies, num_features)"
   ],
   "metadata": {
    "collapsed": false,
    "pycharm": {
     "name": "#%%\n",
     "is_executing": false
    }
   }
  },
  {
   "cell_type": "markdown",
   "source": [
    "编写normalize函数"
   ],
   "metadata": {
    "collapsed": false,
    "pycharm": {
     "name": "#%% md\n"
    }
   }
  },
  {
   "cell_type": "code",
   "execution_count": 526,
   "outputs": [],
   "source": [
    "def normalizeRatings(Y, R):\n",
    "    Ymean = np.zeros((Y.shape[0], 1))\n",
    "    Ynorm = np.zeros(Y.shape)\n",
    "    for i in range(Y.shape[0]):\n",
    "        idx = R[i, :] == 1\n",
    "        Ymean[i] = np.mean(Y[i, idx], axis=0)\n",
    "        Ynorm[i, idx] = Y[i, idx] - Ymean[i]\n",
    "    return Ynorm, Ymean\n",
    "        \n",
    "    \n",
    "#测试函数功能\n",
    "# Ynorm, Ymean = normalizeRatings(Y, R)\n",
    "# print(Ymean)"
   ],
   "metadata": {
    "collapsed": false,
    "pycharm": {
     "name": "#%%\n",
     "is_executing": false
    }
   }
  },
  {
   "cell_type": "markdown",
   "source": [
    "训练推荐系统"
   ],
   "metadata": {
    "collapsed": false,
    "pycharm": {
     "name": "#%% md\n"
    }
   }
  },
  {
   "cell_type": "code",
   "execution_count": 527,
   "outputs": [
    {
     "name": "stdout",
     "text": [
      "New user ratings:\n\nRated 4 for Toy Story (1995)\n\nRated 3 for Twelve Monkeys (1995)\n\nRated 5 for Usual Suspects, The (1995)\n\nRated 4 for Outbreak (1995)\n\nRated 5 for Shawshank Redemption, The (1994)\n\nRated 3 for While You Were Sleeping (1995)\n\nRated 5 for Forrest Gump (1994)\n\nRated 2 for Silence of the Lambs, The (1991)\n\nRated 4 for Alien (1979)\n\nRated 5 for Die Hard 2 (1990)\n\nRated 5 for Sphere (1998)\n\n5572.038342157883\n",
      "5572.038340646608\n5572.038341949973\n",
      "4573.996203391423\n",
      "4573.996198114059\n4573.99620134305\n",
      "3800.1422664871598\n",
      "2679.755849769782\n2667.265044002652\n",
      "3090.532651713451\n",
      "3090.532671037295\n3090.532646378553\n",
      "3090.5326470119285\n3090.5326477323974",
      "\n3090.532647426948\n",
      "3090.5326449838512\n",
      "3090.5326470359496\n3090.5326490964435\n",
      "3090.532626949215\n",
      "484.9378167052302\n484.9377985582016\n",
      "484.9378161146495\n",
      "430.77336687234975\n430.773360161988\n",
      "430.7733622536964\n430.7733667247872\n",
      "430.77337563722006\n1408.6089252174304\n",
      "661.0296990900473\n481.2361712424878\n",
      "481.23620057530826\n481.2361647813731\n",
      "481.2361748806155\n481.2361888334147\n",
      "481.236181532392\n",
      "481.23631823438825\n7254.938081684629\n",
      "2378.6991724881645\n",
      "1057.620683371478\n676.3416801835208\n",
      "676.3416718203341\n",
      "676.3416872740952\n676.341671947942\n",
      "646.7558656177001\n646.7558988443158",
      "\n646.7558627983126\n",
      "646.755873805838\n646.7558690701636",
      "\n646.755868439956\n",
      "646.7558680543709\n",
      "646.7558697458442\n646.7559429659439\n",
      "646.7605931035296\n",
      "73577.206617366\n19376.664642129843\n",
      "5577.88110403327\n",
      "2003.86119736536\n1048.1942096264988\n",
      "778.1964571558417\n",
      "778.1964563959076\n778.1964374079153\n",
      "778.1964670131304\n778.1964584816978\n",
      "778.1964576880521\n778.1964576736889\n",
      "778.1964564893698\n855.252425759393\n",
      "855.2523679810398\n855.2524258569107\n",
      "855.2524268800533\n855.2524204042978\n",
      "855.2524256257335\n855.252425706802\n",
      "855.2524255246709\n855.2524279985332\n",
      "893.7611791245428\n861.4956563769756\n",
      "874.3756312345112\n874.3755447820846\n",
      "874.37563212488\n",
      "849.7150703798944\n849.7150574795897\n",
      "849.7150674329748\n",
      "849.7150663857094\n849.7150694580378\n",
      "849.7150648167884\n",
      "849.7150655587348\n849.7150643006371\n",
      "849.7150698758585\n849.7150696252613\n",
      "849.7150765577825\n849.71507634726\n",
      "849.7150798114105\n849.7150738634401\n",
      "849.7150760321291\n",
      "849.7150683153255\n849.7150680393158\n",
      "849.715067978033\n849.7150688373137",
      "\n2092.879695112123\n",
      "849.7150703798944\n(1682, 10)\n(944, 10)\n"
     ],
     "output_type": "stream"
    }
   ],
   "source": [
    "ratings = np.zeros(X.shape[0])\n",
    "ratings[0] = 4\n",
    "ratings[6] = 3\n",
    "ratings[11] = 5\n",
    "ratings[53] = 4\n",
    "ratings[63] = 5\n",
    "ratings[65] = 3\n",
    "ratings[68] = 5\n",
    "ratings[97] = 2\n",
    "ratings[182] = 4\n",
    "ratings[225] = 5\n",
    "ratings[354] = 5\n",
    "print('New user ratings:\\n')\n",
    "for i in range(ratings.shape[0]):\n",
    "    if ratings[i] > 0 :\n",
    "        print('Rated %d for %s\\n' % (ratings[i], movie_list[i]))\n",
    "\n",
    "Y_movie = np.column_stack((ratings.T, Y))\n",
    "R_movie = np.column_stack((ratings.T != 0, R))\n",
    "Ynorm, Ymean = normalizeRatings(Y_movie, R_movie)\n",
    "num_users = Y_movie.shape[1]\n",
    "num_movies = Y_movie.shape[0]\n",
    "num_features = 10\n",
    "X_movie = np.random.random((num_movies, num_features))\n",
    "theta_movie = np.random.random((num_users, num_features))\n",
    "Theta_movie = serialize(X_movie, theta_movie)\n",
    "res = opt.minimize(fun= cost, x0= Theta_movie, args= (Ynorm, R_movie, 10, num_users, num_movies, num_features),\n",
    "                   method='TNC', jac=gradient, options={'maxiter': 100})\n",
    "Theta_final = res.x\n",
    "X_final, theta_final = deserialize(num_users, num_movies, num_features, Theta_final)\n",
    "print(X_final.shape)\n",
    "print(theta_final.shape)"
   ],
   "metadata": {
    "collapsed": false,
    "pycharm": {
     "name": "#%%\n",
     "is_executing": false
    }
   }
  },
  {
   "cell_type": "markdown",
   "source": [
    "开始进行推荐"
   ],
   "metadata": {
    "collapsed": false,
    "pycharm": {
     "name": "#%% md\n"
    }
   }
  },
  {
   "cell_type": "code",
   "execution_count": 528,
   "outputs": [
    {
     "name": "stdout",
     "text": [
      "<class 'numpy.ndarray'>\n[1535 1598 1188 ... 1333 1324 1319]\nTop 10 recommendations for you:\n",
      "\nPredicting rating 5.0 for movie Aiqing wansui (1994)\n\nPredicting rating 5.0 for movie Someone Else's America (1995)\n\nPredicting rating 5.0 for movie Prefontaine (1997)\n\nPredicting rating 5.0 for movie Entertaining Angels: The Dorothy Day Story (1996)\n\nPredicting rating 5.0 for movie They Made Me a Criminal (1939)\n\nPredicting rating 5.0 for movie Great Day in Harlem, A (1994)\n\nPredicting rating 5.0 for movie Star Kid (1997)\n\nPredicting rating 5.0 for movie Saint of Fort Washington, The (1993)\n\nPredicting rating 5.0 for movie Marlene Dietrich: Shadow and Light (1996) \n\nPredicting rating 5.0 for movie Santa with Muscles (1996)\n\nOriginal ratings provided:\n\nRated 4 for Toy Story (1995)\n\nRated 3 for Twelve Monkeys (1995)\n\nRated 5 for Usual Suspects, The (1995)\n\nRated 4 for Outbreak (1995)\n\nRated 5 for Shawshank Redemption, The (1994)\n\nRated 3 for While You Were Sleeping (1995)\n\nRated 5 for Forrest Gump (1994)\n\nRated 2 for Silence of the Lambs, The (1991)\n\nRated 4 for Alien (1979)\n\nRated 5 for Die Hard 2 (1990)\n\nRated 5 for Sphere (1998)\n\n"
     ],
     "output_type": "stream"
    }
   ],
   "source": [
    "X_final = np.matrix(X_final)\n",
    "theta_final = np.matrix(theta_final)\n",
    "p = X_final * theta_final.T\n",
    "my_predictions = p[:, 0] + Ymean\n",
    "#把matrix变成array\n",
    "my_predictions =  my_predictions.A1\n",
    "r = sorted(my_predictions, reverse= True)\n",
    "ix = np.argsort(-my_predictions, axis=0)\n",
    "\n",
    "print('Top 10 recommendations for you:\\n')\n",
    "for i in range(10):\n",
    "    j = ix[i]\n",
    "    print('Predicting rating %.1f for movie %s\\n' % (my_predictions[j], movie_list[j]))\n",
    "\n",
    "print('Original ratings provided:\\n')\n",
    "for i in range(len(ratings)):\n",
    "    if ratings[i] > 0:\n",
    "        print('Rated %d for %s\\n' % (ratings[i], movie_list[i]))\n"
   ],
   "metadata": {
    "collapsed": false,
    "pycharm": {
     "name": "#%%\n",
     "is_executing": false
    }
   }
  }
 ],
 "metadata": {
  "language_info": {
   "codemirror_mode": {
    "name": "ipython",
    "version": 2
   },
   "file_extension": ".py",
   "mimetype": "text/x-python",
   "name": "python",
   "nbconvert_exporter": "python",
   "pygments_lexer": "ipython2",
   "version": "2.7.6"
  },
  "kernelspec": {
   "name": "python3",
   "language": "python",
   "display_name": "Python 3"
  },
  "pycharm": {
   "stem_cell": {
    "cell_type": "raw",
    "source": [],
    "metadata": {
     "collapsed": false
    }
   }
  }
 },
 "nbformat": 4,
 "nbformat_minor": 0
}