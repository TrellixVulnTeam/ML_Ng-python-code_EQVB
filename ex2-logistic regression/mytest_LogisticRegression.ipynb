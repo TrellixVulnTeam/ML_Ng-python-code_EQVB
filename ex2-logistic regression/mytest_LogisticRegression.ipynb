{
 "cells": [
  {
   "cell_type": "code",
   "execution_count": 1,
   "metadata": {
    "collapsed": true,
    "pycharm": {
     "is_executing": false
    }
   },
   "outputs": [],
   "source": [
    "import numpy as np\n",
    "import pandas as pd\n",
    "import matplotlib.pyplot as plt\n",
    "import scipy.optimize as opt"
   ]
  },
  {
   "cell_type": "code",
   "execution_count": 2,
   "outputs": [
    {
     "data": {
      "text/plain": "   Exam1 score  Exam2 score  result\n0    34.623660    78.024693       0\n1    30.286711    43.894998       0\n2    35.847409    72.902198       0\n3    60.182599    86.308552       1\n4    79.032736    75.344376       1",
      "text/html": "<div>\n<style scoped>\n    .dataframe tbody tr th:only-of-type {\n        vertical-align: middle;\n    }\n\n    .dataframe tbody tr th {\n        vertical-align: top;\n    }\n\n    .dataframe thead th {\n        text-align: right;\n    }\n</style>\n<table border=\"1\" class=\"dataframe\">\n  <thead>\n    <tr style=\"text-align: right;\">\n      <th></th>\n      <th>Exam1 score</th>\n      <th>Exam2 score</th>\n      <th>result</th>\n    </tr>\n  </thead>\n  <tbody>\n    <tr>\n      <th>0</th>\n      <td>34.623660</td>\n      <td>78.024693</td>\n      <td>0</td>\n    </tr>\n    <tr>\n      <th>1</th>\n      <td>30.286711</td>\n      <td>43.894998</td>\n      <td>0</td>\n    </tr>\n    <tr>\n      <th>2</th>\n      <td>35.847409</td>\n      <td>72.902198</td>\n      <td>0</td>\n    </tr>\n    <tr>\n      <th>3</th>\n      <td>60.182599</td>\n      <td>86.308552</td>\n      <td>1</td>\n    </tr>\n    <tr>\n      <th>4</th>\n      <td>79.032736</td>\n      <td>75.344376</td>\n      <td>1</td>\n    </tr>\n  </tbody>\n</table>\n</div>"
     },
     "metadata": {},
     "output_type": "execute_result",
     "execution_count": 2
    }
   ],
   "source": [
    "path = 'ex2data1.txt'\n",
    "data = pd.read_csv(path, header=None, names=['Exam1 score', 'Exam2 score', 'result'])\n",
    "data.head()"
   ],
   "metadata": {
    "collapsed": false,
    "pycharm": {
     "name": "#%%\n",
     "is_executing": false
    }
   }
  },
  {
   "cell_type": "markdown",
   "source": [
    "下面画数据的散点图\n"
   ],
   "metadata": {
    "collapsed": false,
    "pycharm": {
     "name": "#%% md\n"
    }
   }
  },
  {
   "cell_type": "code",
   "execution_count": 3,
   "outputs": [
    {
     "data": {
      "text/plain": "<Figure size 864x576 with 1 Axes>",
      "image/png": "[encoded data removed]"
     },
     "metadata": {
      "needs_background": "light"
     },
     "output_type": "display_data"
    }
   ],
   "source": [
    "positive = data[data['result'].isin([1])]\n",
    "negtive = data[data['result'].isin([0])]\n",
    "\n",
    "fig, ax = plt.subplots(figsize=(12,8))\n",
    "ax.scatter(positive['Exam1 score'], positive['Exam2 score'], c='b', marker='o', label='admitted')\n",
    "ax.scatter(negtive['Exam1 score'], negtive['Exam2 score'], c='y', marker='+', label='not admitted')\n",
    "ax.legend()\n",
    "\n",
    "plt.xlabel('Exam1 score')\n",
    "plt.ylabel('Exam2 score')\n",
    "plt.show()"
   ],
   "metadata": {
    "collapsed": false,
    "pycharm": {
     "name": "#%%\n",
     "is_executing": false
    }
   }
  },
  {
   "cell_type": "markdown",
   "source": [
    "下面编写sigmoid函数\n"
   ],
   "metadata": {
    "collapsed": false,
    "pycharm": {
     "name": "#%% md\n"
    }
   }
  },
  {
   "cell_type": "code",
   "execution_count": 4,
   "outputs": [],
   "source": [
    "def sigmoid(x):\n",
    "    return 1/(1 + np.exp(-x))\n"
   ],
   "metadata": {
    "collapsed": false,
    "pycharm": {
     "name": "#%%\n",
     "is_executing": false
    }
   }
  },
  {
   "cell_type": "markdown",
   "source": [
    "下面编写cost函数\n"
   ],
   "metadata": {
    "collapsed": false,
    "pycharm": {
     "name": "#%% md\n"
    }
   }
  },
  {
   "cell_type": "code",
   "execution_count": 5,
   "outputs": [],
   "source": [
    "def cost(theta, X, Y):\n",
    "    theta = np.matrix(theta)\n",
    "    X = np.matrix(X)\n",
    "    Y = np.matrix(Y)\n",
    "    m = len(X)\n",
    "    first = np.multiply(-Y, np.log(sigmoid(X @ theta.T)))\n",
    "    second = np.multiply((1 - Y), np.log(1 - sigmoid(X @ theta.T)))\n",
    "    result = np.sum(first - second) / m\n",
    "    return result\n",
    "    "
   ],
   "metadata": {
    "collapsed": false,
    "pycharm": {
     "name": "#%%\n",
     "is_executing": false
    }
   }
  },
  {
   "cell_type": "markdown",
   "source": [
    "下面编写单次梯度下降函数\n",
    "\n"
   ],
   "metadata": {
    "collapsed": false,
    "pycharm": {
     "name": "#%% md\n"
    }
   }
  },
  {
   "cell_type": "code",
   "execution_count": 6,
   "outputs": [],
   "source": [
    "# def gradient_decent(theta, alpha, X, Y, itera):\n",
    "#     temp = np.matrix(np.zeros(theta.shape))\n",
    "#     paramiters = int(theta.ravel().shape[1])\n",
    "#     cost = np.zeros(itera)\n",
    "#     \n",
    "#     for i in range(itera):\n",
    "#         temp = theta\n",
    "#         \n",
    "#         for j in range(paramiters):\n",
    "#             theta[j] = temp[j] - (alpha * np.sum(sigmoid(X) - Y) * X[j]) \n",
    "#         cost[i] = computecost(theta, X, Y)\n",
    "#         \n",
    "#     return cost, theta\n",
    "\n",
    "def gradient(theta, X, Y):\n",
    "\n",
    "    theta = np.matrix(theta)\n",
    "    return ((sigmoid(X * theta.T) - Y).T * X) / len(X)\n",
    "\n",
    "        "
   ],
   "metadata": {
    "collapsed": false,
    "pycharm": {
     "name": "#%%\n",
     "is_executing": false
    }
   }
  },
  {
   "cell_type": "markdown",
   "source": [
    "下面是对读到的数据进行处理使其变成矩阵的格式\n"
   ],
   "metadata": {
    "collapsed": false,
    "pycharm": {
     "name": "#%% md\n"
    }
   }
  },
  {
   "cell_type": "code",
   "execution_count": 7,
   "outputs": [],
   "source": [
    "data.insert(0, 'Ones', 1)\n",
    "cols = data.shape[1]\n",
    "X = data.iloc[:, 0:cols - 1]\n",
    "Y = data.iloc[:, cols -1:cols]\n",
    "\n",
    "theta = np.zeros(3)\n",
    "X = np.matrix(X.values)\n",
    "Y = np.matrix(Y.values)"
   ],
   "metadata": {
    "collapsed": false,
    "pycharm": {
     "name": "#%%\n",
     "is_executing": false
    }
   }
  },
  {
   "cell_type": "markdown",
   "source": [
    "调用fmin_tnc函数进行梯度下降\n",
    "\n"
   ],
   "metadata": {
    "collapsed": false,
    "pycharm": {
     "name": "#%% md\n"
    }
   }
  },
  {
   "cell_type": "code",
   "execution_count": 8,
   "outputs": [
    {
     "name": "stdout",
     "text": [
      "0.6931471805599453\n[[ -0.1        -12.00921659 -11.26284221]]\n"
     ],
     "output_type": "stream"
    },
    {
     "data": {
      "text/plain": "0.20349770158947467"
     },
     "metadata": {},
     "output_type": "execute_result",
     "execution_count": 8
    }
   ],
   "source": [
    "print(cost(theta, X, Y))\n",
    "print(gradient(theta, X, Y))\n",
    "result = opt.fmin_tnc(func=cost, x0=theta, fprime=gradient, args=(X, Y))\n",
    "# res = opt.minimize(fun=cost, x0=theta, args=(X, Y), method='Newton-CG', jac=gradient)\n",
    "cost(result[0], X, Y)\n"
   ],
   "metadata": {
    "collapsed": false,
    "pycharm": {
     "name": "#%%\n",
     "is_executing": false
    }
   }
  },
  {
   "cell_type": "markdown",
   "source": [
    "编写预测准确率的函数\n"
   ],
   "metadata": {
    "collapsed": false,
    "pycharm": {
     "name": "#%% md\n"
    }
   }
  },
  {
   "cell_type": "code",
   "execution_count": 9,
   "outputs": [],
   "source": [
    "def predict(theta, X, Y):\n",
    "    theta = np.matrix(theta)\n",
    "    pre_Y = sigmoid(X * theta.T)\n",
    "    count = 0\n",
    "    for i in range(len(X)):\n",
    "        if (pre_Y[i] >= 0.5 and Y[i] == 1) or (pre_Y[i] < 0.5 and Y[i] == 0):\n",
    "            count = count + 1\n",
    "    print('the accuracy is %s' % str(count/len(X)))"
   ],
   "metadata": {
    "collapsed": false,
    "pycharm": {
     "name": "#%%\n",
     "is_executing": false
    }
   }
  },
  {
   "cell_type": "code",
   "execution_count": 10,
   "outputs": [
    {
     "name": "stdout",
     "text": [
      "the accuracy is 0.89\n"
     ],
     "output_type": "stream"
    }
   ],
   "source": [
    "predict(result[0], X, Y)\n"
   ],
   "metadata": {
    "collapsed": false,
    "pycharm": {
     "name": "#%%\n",
     "is_executing": false
    }
   }
  },
  {
   "cell_type": "markdown",
   "source": [
    "画分边界线\n"
   ],
   "metadata": {
    "collapsed": false,
    "pycharm": {
     "name": "#%% md\n"
    }
   }
  },
  {
   "cell_type": "code",
   "execution_count": 11,
   "outputs": [
    {
     "name": "stdout",
     "text": [
      "[124.88774026  -1.02362668  -1.        ]\n"
     ],
     "output_type": "stream"
    },
    {
     "data": {
      "text/plain": "<Figure size 864x576 with 1 Axes>",
      "image/png": "[encoded data removed]"
     },
     "metadata": {
      "needs_background": "light"
     },
     "output_type": "display_data"
    }
   ],
   "source": [
    "positive = data[data['result'].isin([1])]\n",
    "negtive = data[data['result'].isin([0])]\n",
    "\n",
    "fig, ax = plt.subplots(figsize=(12,8))\n",
    "ax.scatter(positive['Exam1 score'], positive['Exam2 score'], c='b', marker='o', label='admitted')\n",
    "ax.scatter(negtive['Exam1 score'], negtive['Exam2 score'], c='y', marker='+', label='not admitted')\n",
    "ax.legend()\n",
    "\n",
    "plt.xlabel('Exam1 score')\n",
    "plt.ylabel('Exam2 score')\n",
    "\n",
    "final_theta = (result[0] * -1)/result[0][2]\n",
    "print(final_theta)\n",
    "plot_X = np.linspace(25, 100, 100)\n",
    "plot_Y = final_theta[0] + final_theta[1] * plot_X\n",
    "ax.plot(plot_X, plot_Y, 'r')\n",
    "plt.show()\n",
    "\n"
   ],
   "metadata": {
    "collapsed": false,
    "pycharm": {
     "name": "#%%\n",
     "is_executing": false
    }
   }
  }
 ],
 "metadata": {
  "language_info": {
   "codemirror_mode": {
    "name": "ipython",
    "version": 2
   },
   "file_extension": ".py",
   "mimetype": "text/x-python",
   "name": "python",
   "nbconvert_exporter": "python",
   "pygments_lexer": "ipython2",
   "version": "2.7.6"
  },
  "kernelspec": {
   "name": "python3",
   "language": "python",
   "display_name": "Python 3"
  },
  "pycharm": {
   "stem_cell": {
    "cell_type": "raw",
    "source": [],
    "metadata": {
     "collapsed": false
    }
   }
  }
 },
 "nbformat": 4,
 "nbformat_minor": 0
}