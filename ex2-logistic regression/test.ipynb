{
 "cells": [
  {
   "cell_type": "code",
   "execution_count": 72,
   "outputs": [
    {
     "data": {
      "text/plain": "<Figure size 432x288 with 1 Axes>",
      "image/png": "[encoded data removed]"
     },
     "metadata": {
      "needs_background": "light"
     },
     "output_type": "display_data"
    }
   ],
   "source": [
    "#导入模块\n",
    "import numpy as np\n",
    "import matplotlib.pyplot as plt\n",
    "import pandas as pd\n",
    "\n",
    "#建立步长为0.01，即每隔0.01取一个点\n",
    "step = 0.01\n",
    "x = np.arange(-10,10,step)\n",
    "y = np.arange(-10,10,step)\n",
    "#也可以用x = np.linspace(-10,10,100)表示从-10到10，分100份\n",
    "\n",
    "#将原始数据变成网格数据形式\n",
    "X,Y = np.meshgrid(x,y)\n",
    "#写入函数，z是大写\n",
    "Z = X**2+Y**2\n",
    "line_lv = [2]\n",
    "#只画z=20和40的线，并将颜色设置为黑色\n",
    "contour = plt.contour(X,Y,Z,levels=line_lv,colors='k')\n",
    "\n",
    "\n",
    "\n"
   ],
   "metadata": {
    "collapsed": false,
    "pycharm": {
     "name": "#%%\n",
     "is_executing": false
    }
   }
  },
  {
   "cell_type": "code",
   "execution_count": 73,
   "outputs": [],
   "source": [
    "def feature_mapping(x, y, power, as_ndarray=False):\n",
    "#     \"\"\"return mapped features as ndarray or dataframe\"\"\"\n",
    "    # data = {}\n",
    "    # # inclusive\n",
    "    # for i in np.arange(power + 1):\n",
    "    #     for p in np.arange(i + 1):\n",
    "    #         data[\"f{}{}\".format(i - p, p)] = np.power(x, i - p) * np.power(y, p)\n",
    "\n",
    "    data = {\"f{}{}\".format(i - p, p): np.power(x, i - p) * np.power(y, p)\n",
    "                for i in np.arange(power + 1)\n",
    "                for p in np.arange(i + 1)\n",
    "            }\n",
    "\n",
    "    if as_ndarray:\n",
    "        return pd.DataFrame(data).as_matrix()\n",
    "    else:\n",
    "        return pd.DataFrame(data)"
   ],
   "metadata": {
    "collapsed": false,
    "pycharm": {
     "name": "#%%\n",
     "is_executing": false
    }
   }
  },
  {
   "cell_type": "code",
   "execution_count": 74,
   "outputs": [
    {
     "name": "stdout",
     "text": [
      "0.002\n",
      "        f00       f10       f01       f20       f11       f02           f30  \\\n399     1.0 -1.000000 -0.001502  1.000000  0.001502  0.000002 -1.000000e+00   \n400     1.0 -1.000000  0.001001  1.000000 -0.001001  0.000001 -1.000000e+00   \n1396    1.0 -0.997497 -0.009009  0.995001  0.008986  0.000081 -9.925113e-01   \n1397    1.0 -0.997497 -0.006507  0.995001  0.006490  0.000042 -9.925113e-01   \n2393    1.0 -0.994995 -0.016517  0.990015  0.016434  0.000273 -9.850600e-01   \n...     ...       ...       ...       ...       ...       ...           ...   \n394002  1.0 -0.014014 -0.994995  0.000196  0.013944  0.990015 -2.752248e-06   \n396001  1.0 -0.009009 -0.997497  0.000081  0.008986  0.995001 -7.311914e-07   \n397001  1.0 -0.006507 -0.997497  0.000042  0.006490  0.995001 -2.754505e-07   \n399000  1.0 -0.001502 -1.000000  0.000002  0.001502  1.000000 -3.385145e-09   \n400000  1.0  0.001001 -1.000000  0.000001 -0.001001  1.000000  1.003006e-09   \n\n             f21       f12           f03  ...           f31       f22  \\\n399    -0.001502 -0.000002 -3.385145e-09  ...  1.501502e-03  0.000002   \n400     0.001001 -0.000001  1.003006e-09  ... -1.001001e-03  0.000001   \n1396   -0.008964 -0.000081 -7.311914e-07  ...  8.941543e-03  0.000081   \n1397   -0.006474 -0.000042 -2.754505e-07  ...  6.457781e-03  0.000042   \n2393   -0.016352 -0.000271 -4.505628e-06  ...  1.626976e-02  0.000270   \n...          ...       ...           ...  ...           ...       ...   \n394002 -0.000195 -0.013874 -9.850600e-01  ...  2.738473e-06  0.000194   \n396001 -0.000081 -0.008964 -9.925113e-01  ...  7.293616e-07  0.000081   \n397001 -0.000042 -0.006474 -9.925113e-01  ...  2.747612e-07  0.000042   \n399000 -0.000002 -0.001502 -1.000000e+00  ...  3.385145e-09  0.000002   \n400000 -0.000001  0.001001 -1.000000e+00  ... -1.003006e-09  0.000001   \n\n                 f13           f04           f50           f41           f32  \\\n399     3.385145e-09  5.082801e-12 -1.000000e+00 -1.501502e-03 -2.254507e-06   \n400    -1.003006e-09  1.004010e-12 -1.000000e+00  1.001001e-03 -1.002003e-06   \n1396    7.293616e-07  6.587310e-09 -9.875500e-01 -8.919167e-03 -8.055444e-05   \n1397    2.747612e-07  1.792221e-09 -9.875500e-01 -6.441620e-03 -4.201759e-05   \n2393    4.483078e-06  7.441729e-08 -9.752242e-01 -1.618833e-02 -2.687198e-04   \n...              ...           ...           ...           ...           ...   \n394002  1.380464e-02  9.801298e-01 -5.405212e-10 -3.837701e-08 -2.724767e-06   \n396001  8.941543e-03  9.900275e-01 -5.934513e-11 -6.570825e-09 -7.275363e-07   \n397001  6.457781e-03  9.900275e-01 -1.166110e-11 -1.787736e-09 -2.740736e-07   \n399000  1.501502e-03  1.000000e+00 -7.631833e-15 -5.082801e-12 -3.385145e-09   \n400000 -1.001001e-03  1.000000e+00  1.005015e-15 -1.004010e-12  1.003006e-09   \n\n                 f23           f14           f05  \n399    -3.385145e-09 -5.082801e-12 -7.631833e-15  \n400     1.003006e-09 -1.004010e-12  1.005015e-15  \n1396   -7.275363e-07 -6.570825e-09 -5.934513e-11  \n1397   -2.740736e-07 -1.787736e-09 -1.166110e-11  \n2393   -4.460640e-06 -7.404483e-08 -1.229114e-09  \n...              ...           ...           ...  \n394002 -1.934585e-04 -1.373555e-02 -9.752242e-01  \n396001 -8.055444e-05 -8.919167e-03 -9.875500e-01  \n397001 -4.201759e-05 -6.441620e-03 -9.875500e-01  \n399000 -2.254507e-06 -1.501502e-03 -1.000000e+00  \n400000 -1.002003e-06  1.001001e-03 -1.000000e+00  \n\n[354 rows x 21 columns]\n"
     ],
     "output_type": "stream"
    },
    {
     "name": "stderr",
     "text": [
      "D:\\pycharm\\pro\\test\\venv\\lib\\site-packages\\ipykernel_launcher.py:13: FutureWarning: Method .as_matrix will be removed in a future version. Use .values instead.\n  del sys.path[0]\n"
     ],
     "output_type": "stream"
    }
   ],
   "source": [
    "\n",
    "t1 = np.linspace(-1, 1.5, 1000)\n",
    "t2 = np.linspace(-1, 1.5, 1000)\n",
    "threshhold = 2 * 10**-3\n",
    "theta = np.ones(21)\n",
    "\n",
    "print(threshhold)\n",
    "\n",
    "cordinates = [(x, y) for x in t1 for y in t2]\n",
    "list(cordinates)\n",
    "x_cord, y_cord = zip(*cordinates)\n",
    "mapped_cord = feature_mapping(x_cord, y_cord, 5)  # this is a dataframe\n",
    "\n",
    "inner_product = mapped_cord.as_matrix() @ theta\n",
    "\n",
    "decision = mapped_cord[np.abs(inner_product) < threshhold]\n",
    "\n",
    "print(decision)\n"
   ],
   "metadata": {
    "collapsed": false,
    "pycharm": {
     "name": "#%%\n",
     "is_executing": false
    }
   }
  }
 ],
 "metadata": {
  "language_info": {
   "codemirror_mode": {
    "name": "ipython",
    "version": 2
   },
   "file_extension": ".py",
   "mimetype": "text/x-python",
   "name": "python",
   "nbconvert_exporter": "python",
   "pygments_lexer": "ipython2",
   "version": "2.7.6"
  },
  "kernelspec": {
   "name": "python3",
   "language": "python",
   "display_name": "Python 3"
  },
  "pycharm": {
   "stem_cell": {
    "cell_type": "raw",
    "source": [],
    "metadata": {
     "collapsed": false
    }
   }
  }
 },
 "nbformat": 4,
 "nbformat_minor": 0
}